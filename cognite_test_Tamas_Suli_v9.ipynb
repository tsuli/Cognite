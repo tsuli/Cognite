{
  "nbformat": 4,
  "nbformat_minor": 0,
  "metadata": {
    "kernelspec": {
      "display_name": "Python 3",
      "language": "python",
      "name": "python3"
    },
    "language_info": {
      "codemirror_mode": {
        "name": "ipython",
        "version": 3
      },
      "file_extension": ".py",
      "mimetype": "text/x-python",
      "name": "python",
      "nbconvert_exporter": "python",
      "pygments_lexer": "ipython3",
      "version": "3.8.3"
    },
    "colab": {
      "name": "cognite_test_Tamas_Suli_v2.ipynb",
      "provenance": [],
      "include_colab_link": true
    }
  },
  "cells": [
    {
      "cell_type": "markdown",
      "metadata": {
        "id": "view-in-github",
        "colab_type": "text"
      },
      "source": [
        "<a href=\"https://colab.research.google.com/github/tsuli/Cognite/blob/main/cognite_test_Tamas_Suli_v9.ipynb\" target=\"_parent\"><img src=\"https://colab.research.google.com/assets/colab-badge.svg\" alt=\"Open In Colab\"/></a>"
      ]
    },
    {
      "cell_type": "code",
      "metadata": {
        "id": "qou8D8FMhX_6",
        "colab": {
          "base_uri": "https://localhost:8080/"
        },
        "outputId": "3de7317a-9a4b-446a-d06e-96c77b7876fb"
      },
      "source": [
        "#!pip install cognite-sdk\n",
        "!pip install --upgrade cognite-sdk"
      ],
      "execution_count": 1,
      "outputs": [
        {
          "output_type": "stream",
          "name": "stdout",
          "text": [
            "Collecting cognite-sdk\n",
            "  Downloading cognite_sdk-2.38.1-py3-none-any.whl (181 kB)\n",
            "\u001b[?25l\r\u001b[K     |█▉                              | 10 kB 20.1 MB/s eta 0:00:01\r\u001b[K     |███▋                            | 20 kB 9.8 MB/s eta 0:00:01\r\u001b[K     |█████▍                          | 30 kB 8.2 MB/s eta 0:00:01\r\u001b[K     |███████▏                        | 40 kB 7.9 MB/s eta 0:00:01\r\u001b[K     |█████████                       | 51 kB 4.2 MB/s eta 0:00:01\r\u001b[K     |██████████▉                     | 61 kB 4.4 MB/s eta 0:00:01\r\u001b[K     |████████████▋                   | 71 kB 4.7 MB/s eta 0:00:01\r\u001b[K     |██████████████▍                 | 81 kB 5.2 MB/s eta 0:00:01\r\u001b[K     |████████████████▎               | 92 kB 3.9 MB/s eta 0:00:01\r\u001b[K     |██████████████████              | 102 kB 4.3 MB/s eta 0:00:01\r\u001b[K     |███████████████████▉            | 112 kB 4.3 MB/s eta 0:00:01\r\u001b[K     |█████████████████████▋          | 122 kB 4.3 MB/s eta 0:00:01\r\u001b[K     |███████████████████████▍        | 133 kB 4.3 MB/s eta 0:00:01\r\u001b[K     |█████████████████████████▎      | 143 kB 4.3 MB/s eta 0:00:01\r\u001b[K     |███████████████████████████     | 153 kB 4.3 MB/s eta 0:00:01\r\u001b[K     |████████████████████████████▉   | 163 kB 4.3 MB/s eta 0:00:01\r\u001b[K     |██████████████████████████████▋ | 174 kB 4.3 MB/s eta 0:00:01\r\u001b[K     |████████████████████████████████| 181 kB 4.3 MB/s \n",
            "\u001b[?25hRequirement already satisfied: pandas in /usr/local/lib/python3.7/dist-packages (from cognite-sdk) (1.1.5)\n",
            "Requirement already satisfied: requests<3.0.0,>=2.21.0 in /usr/local/lib/python3.7/dist-packages (from cognite-sdk) (2.23.0)\n",
            "Requirement already satisfied: requests-oauthlib==1.3.0 in /usr/local/lib/python3.7/dist-packages (from cognite-sdk) (1.3.0)\n",
            "Requirement already satisfied: oauthlib>=3.0.0 in /usr/local/lib/python3.7/dist-packages (from requests-oauthlib==1.3.0->cognite-sdk) (3.1.1)\n",
            "Requirement already satisfied: certifi>=2017.4.17 in /usr/local/lib/python3.7/dist-packages (from requests<3.0.0,>=2.21.0->cognite-sdk) (2021.10.8)\n",
            "Requirement already satisfied: idna<3,>=2.5 in /usr/local/lib/python3.7/dist-packages (from requests<3.0.0,>=2.21.0->cognite-sdk) (2.10)\n",
            "Requirement already satisfied: urllib3!=1.25.0,!=1.25.1,<1.26,>=1.21.1 in /usr/local/lib/python3.7/dist-packages (from requests<3.0.0,>=2.21.0->cognite-sdk) (1.24.3)\n",
            "Requirement already satisfied: chardet<4,>=3.0.2 in /usr/local/lib/python3.7/dist-packages (from requests<3.0.0,>=2.21.0->cognite-sdk) (3.0.4)\n",
            "Requirement already satisfied: numpy>=1.15.4 in /usr/local/lib/python3.7/dist-packages (from pandas->cognite-sdk) (1.19.5)\n",
            "Requirement already satisfied: pytz>=2017.2 in /usr/local/lib/python3.7/dist-packages (from pandas->cognite-sdk) (2018.9)\n",
            "Requirement already satisfied: python-dateutil>=2.7.3 in /usr/local/lib/python3.7/dist-packages (from pandas->cognite-sdk) (2.8.2)\n",
            "Requirement already satisfied: six>=1.5 in /usr/local/lib/python3.7/dist-packages (from python-dateutil>=2.7.3->pandas->cognite-sdk) (1.15.0)\n",
            "Installing collected packages: cognite-sdk\n",
            "Successfully installed cognite-sdk-2.38.1\n"
          ]
        }
      ]
    },
    {
      "cell_type": "code",
      "metadata": {
        "id": "GBLUi1FrhYAG"
      },
      "source": [
        "%matplotlib inline\n",
        "\n",
        "import os\n",
        "from datetime import datetime, timedelta\n",
        "from datetime import datetime\n",
        "from getpass import getpass\n",
        "\n",
        "import numpy as np\n",
        "import pandas as pd\n",
        "import matplotlib.pyplot as plt\n",
        "#from sklearn.ensemble import RandomForestRegressor\n",
        "#from sklearn.linear_model import LinearRegression\n",
        "#from sklearn.metrics import mean_squared_error\n",
        "#from sklearn.metrics import r2_score\n",
        "\n",
        "from cognite.client import CogniteClient\n",
        "\n",
        "c = CogniteClient(api_key=\"NTgxY2MwMTItZjFmYS00N2U0LTgxNWEtZTcwZDNiMDU0OTFm\",\n",
        "                       project=\"publicdata\", client_name=\"Tamas Suli\")\n",
        "# NTgxY2MwMTItZjFmYS00N2U0LTgxNWEtZTcwZDNiMDU0OTFm"
      ],
      "execution_count": 2,
      "outputs": []
    },
    {
      "cell_type": "code",
      "metadata": {
        "id": "02-vEZ286BHO",
        "colab": {
          "base_uri": "https://localhost:8080/"
        },
        "outputId": "842c205b-639b-4c51-de08-18961920ee71"
      },
      "source": [
        "all_timeseries = c.time_series.list(limit=-1).to_pandas()\n",
        "val_timeseries = all_timeseries[all_timeseries['name'].str.contains('VAL_', regex=False)]\n",
        "# all_timeseries.to_csv('all_timeseries.csv', header = True, index = False)\n",
        "# val_timeseries.to_csv('val_timeseries.csv', header = True, index = False)\n",
        "val_timeseries.index.name = 'ind'\n",
        "val_timeseries.reset_index(inplace=True)\n",
        "del val_timeseries['ind']\n",
        "len(val_timeseries['id'])"
      ],
      "execution_count": 3,
      "outputs": [
        {
          "output_type": "execute_result",
          "data": {
            "text/plain": [
              "363"
            ]
          },
          "metadata": {},
          "execution_count": 3
        }
      ]
    },
    {
      "cell_type": "code",
      "metadata": {
        "id": "e5cpIPaCTRK9"
      },
      "source": [
        "val_timeseries[290:310]"
      ],
      "execution_count": null,
      "outputs": []
    },
    {
      "cell_type": "code",
      "metadata": {
        "id": "7QsEpgTAITC9",
        "outputId": "ddba474c-bb50-46d8-d03a-5467c331a556",
        "colab": {
          "base_uri": "https://localhost:8080/",
          "height": 115
        }
      },
      "source": [
        "val_timeseries.loc[val_timeseries.name==\"VAL_23-PT-92539:X.Value\"]\n",
        "# VAL_23-FT-92537-01:X.Value - 7638223843994790 - id: 305\n",
        "# VAL_23-TT-92539:X.Value - 643849686863640 - id: 30\n",
        "# VAL_23-PT-92539:X.Value - 1890487216163163 - id: 75\n"
      ],
      "execution_count": null,
      "outputs": [
        {
          "output_type": "execute_result",
          "data": {
            "text/html": [
              "<div>\n",
              "<style scoped>\n",
              "    .dataframe tbody tr th:only-of-type {\n",
              "        vertical-align: middle;\n",
              "    }\n",
              "\n",
              "    .dataframe tbody tr th {\n",
              "        vertical-align: top;\n",
              "    }\n",
              "\n",
              "    .dataframe thead th {\n",
              "        text-align: right;\n",
              "    }\n",
              "</style>\n",
              "<table border=\"1\" class=\"dataframe\">\n",
              "  <thead>\n",
              "    <tr style=\"text-align: right;\">\n",
              "      <th></th>\n",
              "      <th>id</th>\n",
              "      <th>externalId</th>\n",
              "      <th>name</th>\n",
              "      <th>isString</th>\n",
              "      <th>metadata</th>\n",
              "      <th>assetId</th>\n",
              "      <th>isStep</th>\n",
              "      <th>description</th>\n",
              "      <th>securityCategories</th>\n",
              "      <th>createdTime</th>\n",
              "      <th>lastUpdatedTime</th>\n",
              "      <th>unit</th>\n",
              "    </tr>\n",
              "  </thead>\n",
              "  <tbody>\n",
              "    <tr>\n",
              "      <th>75</th>\n",
              "      <td>1890487216163163</td>\n",
              "      <td>pi:160703</td>\n",
              "      <td>VAL_23-PT-92539:X.Value</td>\n",
              "      <td>False</td>\n",
              "      <td>{'tag': 'VAL_23-PT-92539:X.Value', 'scan': '1'...</td>\n",
              "      <td>3147733389929639</td>\n",
              "      <td>False</td>\n",
              "      <td>PH 1stStgComp Discharge</td>\n",
              "      <td>[]</td>\n",
              "      <td>1593024714298</td>\n",
              "      <td>1593512860522</td>\n",
              "      <td>bar</td>\n",
              "    </tr>\n",
              "  </tbody>\n",
              "</table>\n",
              "</div>"
            ],
            "text/plain": [
              "                  id externalId  ... lastUpdatedTime  unit\n",
              "75  1890487216163163  pi:160703  ...   1593512860522   bar\n",
              "\n",
              "[1 rows x 12 columns]"
            ]
          },
          "metadata": {},
          "execution_count": 8
        }
      ]
    },
    {
      "cell_type": "code",
      "metadata": {
        "id": "JM3sJ486lz7m"
      },
      "source": [
        "i = 30\n",
        "\n",
        "d1_1 = c.datapoints.retrieve(id=int(val_timeseries['id'][i]), start=\"100d-ago\", end=\"0d-ago\").to_pandas()\n",
        "d1_1.index.name = 'time'\n",
        "d1_1.reset_index(inplace=True)\n",
        "id_title = 'm_' + str(val_timeseries['id'][i])\n",
        "time_title = 't_' + str(val_timeseries['id'][i])\n",
        "d1_1_dict = {time_title: d1_1['time'].tolist(), id_title: d1_1[d1_1.columns[1]].tolist()}\n",
        "out_file = 'd1_1_bin'\n",
        "np.savez(out_file, **d1_1_dict)\n",
        "\n"
      ],
      "execution_count": 39,
      "outputs": []
    },
    {
      "cell_type": "code",
      "metadata": {
        "id": "PtBwdGXyRWDv"
      },
      "source": [
        "i = 30\n",
        "\n",
        "d1_2 = c.datapoints.retrieve(id=int(val_timeseries['id'][i]), start=\"200d-ago\", end=\"101d-ago\").to_pandas()\n",
        "d1_2.index.name = 'time'\n",
        "d1_2.reset_index(inplace=True)\n",
        "id_title = 'm_' + str(val_timeseries['id'][i])\n",
        "time_title = 't_' + str(val_timeseries['id'][i])\n",
        "d1_2_dict = {time_title: d1_2['time'].tolist(), id_title: d1_2[d1_2.columns[1]].tolist()}\n",
        "out_file = 'd1_2_bin'\n",
        "np.savez(out_file, **d1_2_dict)\n",
        "\n",
        "d1_3 = c.datapoints.retrieve(id=int(val_timeseries['id'][i]), start=\"300d-ago\", end=\"201d-ago\").to_pandas()\n",
        "d1_3.index.name = 'time'\n",
        "d1_3.reset_index(inplace=True)\n",
        "id_title = 'm_' + str(val_timeseries['id'][i])\n",
        "time_title = 't_' + str(val_timeseries['id'][i])\n",
        "d1_3_dict = {time_title: d1_3['time'].tolist(), id_title: d1_3[d1_3.columns[1]].tolist()}\n",
        "out_file = 'd1_3_bin'\n",
        "np.savez(out_file, **d1_3_dict)\n",
        "\n",
        "d2_1 = c.datapoints.retrieve(id=int(val_timeseries['id'][i]), start=\"400d-ago\", end=\"301d-ago\").to_pandas()\n",
        "d2_1.index.name = 'time'\n",
        "d2_1.reset_index(inplace=True)\n",
        "id_title = 'm_' + str(val_timeseries['id'][i])\n",
        "time_title = 't_' + str(val_timeseries['id'][i])\n",
        "d2_1_dict = {time_title: d2_1['time'].tolist(), id_title: d2_1[d2_1.columns[1]].tolist()}\n",
        "out_file = 'd2_1_bin'\n",
        "np.savez(out_file, **d2_1_dict)\n",
        "\n",
        "d2_2 = c.datapoints.retrieve(id=int(val_timeseries['id'][i]), start=\"500d-ago\", end=\"401d-ago\").to_pandas()\n",
        "d2_2.index.name = 'time'\n",
        "d2_2.reset_index(inplace=True)\n",
        "id_title = 'm_' + str(val_timeseries['id'][i])\n",
        "time_title = 't_' + str(val_timeseries['id'][i])\n",
        "d2_2_dict = {time_title: d2_2['time'].tolist(), id_title: d2_2[d2_2.columns[1]].tolist()}\n",
        "out_file = 'd2_2_bin'\n",
        "np.savez(out_file, **d2_2_dict)\n",
        "\n",
        "d2_3 = c.datapoints.retrieve(id=int(val_timeseries['id'][i]), start=\"600d-ago\", end=\"501d-ago\").to_pandas()\n",
        "d2_3.index.name = 'time'\n",
        "d2_3.reset_index(inplace=True)\n",
        "id_title = 'm_' + str(val_timeseries['id'][i])\n",
        "time_title = 't_' + str(val_timeseries['id'][i])\n",
        "d2_3_dict = {time_title: d2_3['time'].tolist(), id_title: d2_3[d2_3.columns[1]].tolist()}\n",
        "out_file = 'd2_3_bin'\n",
        "np.savez(out_file, **d2_3_dict)\n",
        "\n",
        "d3_1 = c.datapoints.retrieve(id=int(val_timeseries['id'][i]), start=\"700d-ago\", end=\"601d-ago\").to_pandas()\n",
        "d3_1.index.name = 'time'\n",
        "d3_1.reset_index(inplace=True)\n",
        "id_title = 'm_' + str(val_timeseries['id'][i])\n",
        "time_title = 't_' + str(val_timeseries['id'][i])\n",
        "d3_1_dict = {time_title: d3_1['time'].tolist(), id_title: d3_1[d3_1.columns[1]].tolist()}\n",
        "out_file = 'd3_1_bin'\n",
        "np.savez(out_file, **d3_1_dict)\n",
        "\n",
        "d3_2 = c.datapoints.retrieve(id=int(val_timeseries['id'][i]), start=\"800d-ago\", end=\"701d-ago\").to_pandas()\n",
        "d3_2.index.name = 'time'\n",
        "d3_2.reset_index(inplace=True)\n",
        "id_title = 'm_' + str(val_timeseries['id'][i])\n",
        "time_title = 't_' + str(val_timeseries['id'][i])\n",
        "d3_2_dict = {time_title: d3_2['time'].tolist(), id_title: d3_2[d3_2.columns[1]].tolist()}\n",
        "out_file = 'd3_2_bin'\n",
        "np.savez(out_file, **d3_2_dict)\n",
        "\n",
        "d3_3 = c.datapoints.retrieve(id=int(val_timeseries['id'][i]), start=\"900d-ago\", end=\"801d-ago\").to_pandas()\n",
        "d3_3.index.name = 'time'\n",
        "d3_3.reset_index(inplace=True)\n",
        "id_title = 'm_' + str(val_timeseries['id'][i])\n",
        "time_title = 't_' + str(val_timeseries['id'][i])\n",
        "d3_3_dict = {time_title: d3_3['time'].tolist(), id_title: d3_3[d3_3.columns[1]].tolist()}\n",
        "out_file = 'd3_3_bin'\n",
        "np.savez(out_file, **d3_3_dict)\n",
        "\n",
        "d4_1 = c.datapoints.retrieve(id=int(val_timeseries['id'][i]), start=\"1000d-ago\", end=\"901d-ago\").to_pandas()\n",
        "d4_1.index.name = 'time'\n",
        "d4_1.reset_index(inplace=True)\n",
        "id_title = 'm_' + str(val_timeseries['id'][i])\n",
        "time_title = 't_' + str(val_timeseries['id'][i])\n",
        "d4_1_dict = {time_title: d4_1['time'].tolist(), id_title: d4_1[d4_1.columns[1]].tolist()}\n",
        "out_file = 'd4_1_bin'\n",
        "np.savez(out_file, **d4_1_dict)\n",
        "\n",
        "d4_2 = c.datapoints.retrieve(id=int(val_timeseries['id'][i]), start=\"1100d-ago\", end=\"1001d-ago\").to_pandas()\n",
        "d4_2.index.name = 'time'\n",
        "d4_2.reset_index(inplace=True)\n",
        "id_title = 'm_' + str(val_timeseries['id'][i])\n",
        "time_title = 't_' + str(val_timeseries['id'][i])\n",
        "d4_2_dict = {time_title: d4_2['time'].tolist(), id_title: d4_2[d4_2.columns[1]].tolist()}\n",
        "out_file = 'd4_2_bin'\n",
        "np.savez(out_file, **d4_2_dict)\n",
        "\n",
        "d4_3 = c.datapoints.retrieve(id=int(val_timeseries['id'][i]), start=\"1200d-ago\", end=\"1101d-ago\").to_pandas()\n",
        "d4_3.index.name = 'time'\n",
        "d4_3.reset_index(inplace=True)\n",
        "id_title = 'm_' + str(val_timeseries['id'][i])\n",
        "time_title = 't_' + str(val_timeseries['id'][i])\n",
        "d4_3_dict = {time_title: d4_3['time'].tolist(), id_title: d4_3[d4_3.columns[1]].tolist()}\n",
        "out_file = 'd4_3_bin'\n",
        "np.savez(out_file, **d4_3_dict)\n",
        "\n",
        "d5_1 = c.datapoints.retrieve(id=int(val_timeseries['id'][i]), start=\"1300d-ago\", end=\"1201d-ago\").to_pandas()\n",
        "d5_1.index.name = 'time'\n",
        "d5_1.reset_index(inplace=True)\n",
        "id_title = 'm_' + str(val_timeseries['id'][i])\n",
        "time_title = 't_' + str(val_timeseries['id'][i])\n",
        "d5_1_dict = {time_title: d5_1['time'].tolist(), id_title: d5_1[d5_1.columns[1]].tolist()}\n",
        "out_file = 'd5_1_bin'\n",
        "np.savez(out_file, **d5_1_dict)\n",
        "\n",
        "d5_2 = c.datapoints.retrieve(id=int(val_timeseries['id'][i]), start=\"1400d-ago\", end=\"1301d-ago\").to_pandas()\n",
        "d5_2.index.name = 'time'\n",
        "d5_2.reset_index(inplace=True)\n",
        "id_title = 'm_' + str(val_timeseries['id'][i])\n",
        "time_title = 't_' + str(val_timeseries['id'][i])\n",
        "d5_2_dict = {time_title: d5_2['time'].tolist(), id_title: d5_2[d5_2.columns[1]].tolist()}\n",
        "out_file = 'd5_2_bin'\n",
        "np.savez(out_file, **d5_2_dict)\n",
        "\n",
        "d5_3 = c.datapoints.retrieve(id=int(val_timeseries['id'][i]), start=\"1500d-ago\", end=\"1401d-ago\").to_pandas()\n",
        "d5_3.index.name = 'time'\n",
        "d5_3.reset_index(inplace=True)\n",
        "id_title = 'm_' + str(val_timeseries['id'][i])\n",
        "time_title = 't_' + str(val_timeseries['id'][i])\n",
        "d5_3_dict = {time_title: d5_3['time'].tolist(), id_title: d5_3[d5_3.columns[1]].tolist()}\n",
        "out_file = 'd5_3_bin'\n",
        "np.savez(out_file, **d5_3_dict)\n",
        "\n",
        "d6_1 = c.datapoints.retrieve(id=int(val_timeseries['id'][i]), start=\"1600d-ago\", end=\"1501d-ago\").to_pandas()\n",
        "d6_1.index.name = 'time'\n",
        "d6_1.reset_index(inplace=True)\n",
        "id_title = 'm_' + str(val_timeseries['id'][i])\n",
        "time_title = 't_' + str(val_timeseries['id'][i])\n",
        "d6_1_dict = {time_title: d6_1['time'].tolist(), id_title: d6_1[d6_1.columns[1]].tolist()}\n",
        "out_file = 'd6_1_bin'\n",
        "np.savez(out_file, **d6_1_dict)\n",
        "\n",
        "d6_2 = c.datapoints.retrieve(id=int(val_timeseries['id'][i]), start=\"1700d-ago\", end=\"1601d-ago\").to_pandas()\n",
        "d6_2.index.name = 'time'\n",
        "d6_2.reset_index(inplace=True)\n",
        "id_title = 'm_' + str(val_timeseries['id'][i])\n",
        "time_title = 't_' + str(val_timeseries['id'][i])\n",
        "d6_2_dict = {time_title: d6_2['time'].tolist(), id_title: d6_2[d6_2.columns[1]].tolist()}\n",
        "out_file = 'd6_2_bin'\n",
        "np.savez(out_file, **d6_2_dict)\n",
        "\n",
        "d6_3 = c.datapoints.retrieve(id=int(val_timeseries['id'][i]), start=\"1800d-ago\", end=\"1701d-ago\").to_pandas()\n",
        "d6_3.index.name = 'time'\n",
        "d6_3.reset_index(inplace=True)\n",
        "id_title = 'm_' + str(val_timeseries['id'][i])\n",
        "time_title = 't_' + str(val_timeseries['id'][i])\n",
        "d6_3_dict = {time_title: d6_3['time'].tolist(), id_title: d6_3[d6_3.columns[1]].tolist()}\n",
        "out_file = 'd6_3_bin'\n",
        "np.savez(out_file, **d6_3_dict)\n",
        "\n",
        "d7_1 = c.datapoints.retrieve(id=int(val_timeseries['id'][i]), start=\"1900d-ago\", end=\"1801d-ago\").to_pandas()\n",
        "d7_1.index.name = 'time'\n",
        "d7_1.reset_index(inplace=True)\n",
        "id_title = 'm_' + str(val_timeseries['id'][i])\n",
        "time_title = 't_' + str(val_timeseries['id'][i])\n",
        "d7_1_dict = {time_title: d7_1['time'].tolist(), id_title: d7_1[d7_1.columns[1]].tolist()}\n",
        "out_file = 'd7_1_bin'\n",
        "np.savez(out_file, **d7_1_dict)\n",
        "\n",
        "d7_2 = c.datapoints.retrieve(id=int(val_timeseries['id'][i]), start=\"2000d-ago\", end=\"1901d-ago\").to_pandas()\n",
        "d7_2.index.name = 'time'\n",
        "d7_2.reset_index(inplace=True)\n",
        "id_title = 'm_' + str(val_timeseries['id'][i])\n",
        "time_title = 't_' + str(val_timeseries['id'][i])\n",
        "d7_2_dict = {time_title: d7_2['time'].tolist(), id_title: d7_2[d7_2.columns[1]].tolist()}\n",
        "out_file = 'd7_2_bin'\n",
        "np.savez(out_file, **d7_2_dict)\n",
        "\n",
        "d7_3 = c.datapoints.retrieve(id=int(val_timeseries['id'][i]), start=\"2100d-ago\", end=\"2001d-ago\").to_pandas()\n",
        "d7_3.index.name = 'time'\n",
        "d7_3.reset_index(inplace=True)\n",
        "id_title = 'm_' + str(val_timeseries['id'][i])\n",
        "time_title = 't_' + str(val_timeseries['id'][i])\n",
        "d7_3_dict = {time_title: d7_3['time'].tolist(), id_title: d7_3[d7_3.columns[1]].tolist()}\n",
        "out_file = 'd7_3_bin'\n",
        "np.savez(out_file, **d7_3_dict)\n",
        "\n",
        "d8_1 = c.datapoints.retrieve(id=int(val_timeseries['id'][i]), start=\"2200d-ago\", end=\"2101d-ago\").to_pandas()\n",
        "d8_1.index.name = 'time'\n",
        "d8_1.reset_index(inplace=True)\n",
        "id_title = 'm_' + str(val_timeseries['id'][i])\n",
        "time_title = 't_' + str(val_timeseries['id'][i])\n",
        "d8_1_dict = {time_title: d8_1['time'].tolist(), id_title: d8_1[d8_1.columns[1]].tolist()}\n",
        "out_file = 'd8_1_bin'\n",
        "np.savez(out_file, **d8_1_dict)\n",
        "\n",
        "d8_2 = c.datapoints.retrieve(id=int(val_timeseries['id'][i]), start=\"2300d-ago\", end=\"2201d-ago\").to_pandas()\n",
        "d8_2.index.name = 'time'\n",
        "d8_2.reset_index(inplace=True)\n",
        "id_title = 'm_' + str(val_timeseries['id'][i])\n",
        "time_title = 't_' + str(val_timeseries['id'][i])\n",
        "d8_2_dict = {time_title: d8_2['time'].tolist(), id_title: d8_2[d8_2.columns[1]].tolist()}\n",
        "out_file = 'd8_2_bin'\n",
        "np.savez(out_file, **d8_2_dict)\n",
        "\n",
        "d8_3 = c.datapoints.retrieve(id=int(val_timeseries['id'][i]), start=\"2400d-ago\", end=\"2301d-ago\").to_pandas()\n",
        "d8_3.index.name = 'time'\n",
        "d8_3.reset_index(inplace=True)\n",
        "id_title = 'm_' + str(val_timeseries['id'][i])\n",
        "time_title = 't_' + str(val_timeseries['id'][i])\n",
        "d8_3_dict = {time_title: d8_3['time'].tolist(), id_title: d8_3[d8_3.columns[1]].tolist()}\n",
        "out_file = 'd8_3_bin'\n",
        "np.savez(out_file, **d8_3_dict)\n",
        "\n",
        "d9_1 = c.datapoints.retrieve(id=int(val_timeseries['id'][i]), start=\"2500d-ago\", end=\"2401d-ago\").to_pandas()\n",
        "d9_1.index.name = 'time'\n",
        "d9_1.reset_index(inplace=True)\n",
        "id_title = 'm_' + str(val_timeseries['id'][i])\n",
        "time_title = 't_' + str(val_timeseries['id'][i])\n",
        "d9_1_dict = {time_title: d9_1['time'].tolist(), id_title: d9_1[d9_1.columns[1]].tolist()}\n",
        "out_file = 'd9_1_bin'\n",
        "np.savez(out_file, **d9_1_dict)\n",
        "\n",
        "d9_2 = c.datapoints.retrieve(id=int(val_timeseries['id'][i]), start=\"2600d-ago\", end=\"2501d-ago\").to_pandas()\n",
        "d9_2.index.name = 'time'\n",
        "d9_2.reset_index(inplace=True)\n",
        "id_title = 'm_' + str(val_timeseries['id'][i])\n",
        "time_title = 't_' + str(val_timeseries['id'][i])\n",
        "d9_2_dict = {time_title: d9_2['time'].tolist(), id_title: d9_2[d9_2.columns[1]].tolist()}\n",
        "out_file = 'd9_2_bin'\n",
        "np.savez(out_file, **d9_2_dict)\n",
        "\n",
        "d9_3 = c.datapoints.retrieve(id=int(val_timeseries['id'][i]), start=\"2700d-ago\", end=\"2601d-ago\").to_pandas()\n",
        "d9_3.index.name = 'time'\n",
        "d9_3.reset_index(inplace=True)\n",
        "id_title = 'm_' + str(val_timeseries['id'][i])\n",
        "time_title = 't_' + str(val_timeseries['id'][i])\n",
        "d9_3_dict = {time_title: d9_3['time'].tolist(), id_title: d9_3[d9_3.columns[1]].tolist()}\n",
        "out_file = 'd9_3_bin'\n",
        "np.savez(out_file, **d9_3_dict)\n",
        "\n",
        "d10_1 = c.datapoints.retrieve(id=int(val_timeseries['id'][i]), start=\"2900d-ago\", end=\"2701d-ago\").to_pandas()\n",
        "d10_1.index.name = 'time'\n",
        "d10_1.reset_index(inplace=True)\n",
        "id_title = 'm_' + str(val_timeseries['id'][i])\n",
        "time_title = 't_' + str(val_timeseries['id'][i])\n",
        "d10_1_dict = {time_title: d10_1['time'].tolist(), id_title: d10_1[d10_1.columns[1]].tolist()}\n",
        "out_file = 'd10_1_bin'\n",
        "np.savez(out_file, **d10_1_dict)\n",
        "\n",
        "d10_2 = c.datapoints.retrieve(id=int(val_timeseries['id'][i]), start=\"2900d-ago\", end=\"2701d-ago\").to_pandas()\n",
        "d10_2.index.name = 'time'\n",
        "d10_2.reset_index(inplace=True)\n",
        "id_title = 'm_' + str(val_timeseries['id'][i])\n",
        "time_title = 't_' + str(val_timeseries['id'][i])\n",
        "d10_2_dict = {time_title: d10_2['time'].tolist(), id_title: d10_2[d10_2.columns[1]].tolist()}\n",
        "out_file = 'd10_2_bin'\n",
        "np.savez(out_file, **d10_2_dict)\n",
        "\n",
        "d10_3 = c.datapoints.retrieve(id=int(val_timeseries['id'][i]), start=\"2900d-ago\", end=\"2701d-ago\").to_pandas()\n",
        "d10_3.index.name = 'time'\n",
        "d10_3.reset_index(inplace=True)\n",
        "id_title = 'm_' + str(val_timeseries['id'][i])\n",
        "time_title = 't_' + str(val_timeseries['id'][i])\n",
        "d10_3_dict = {time_title: d10_3['time'].tolist(), id_title: d10_3[d10_3.columns[1]].tolist()}\n",
        "out_file = 'd10_3_bin'\n",
        "np.savez(out_file, **d10_3_dict)"
      ],
      "execution_count": null,
      "outputs": []
    },
    {
      "cell_type": "code",
      "metadata": {
        "id": "OUQuZyYaVKlJ"
      },
      "source": [
        "id_title = 'm_' + str(val_timeseries['id'][i])\n",
        "time_title = 't_' + str(val_timeseries['id'][i])\n",
        "data_dict3 = {time_title: [], id_title: []}\n",
        "\n",
        "t1 = d1['time'].tolist()\n",
        "t2 = d2['time'].tolist()\n",
        "t3 = d3['time'].tolist()\n",
        "t4 = d4['time'].tolist()\n",
        "t5 = d5['time'].tolist()\n",
        "t6 = d6['time'].tolist()\n",
        "t7 = d7['time'].tolist()\n",
        "t8 = d8['time'].tolist()\n",
        "t9 = d9['time'].tolist()\n",
        "t10 = d10['time'].tolist()\n",
        "t_a = t1 + t2\n",
        "t_b = t3 + t4 + t5\n",
        "t_c = t6 + t7 + t8 + t9 + t10\n",
        "t = t_a + t_b + t_c"
      ],
      "execution_count": null,
      "outputs": []
    },
    {
      "cell_type": "code",
      "metadata": {
        "id": "wNu8fLdclKEf"
      },
      "source": [
        "v1 = d1[d1.columns[1]].tolist() \n",
        "v2 = d2[d2.columns[1]].tolist()\n",
        "v3 = d3[d3.columns[1]].tolist()\n",
        "v4 = d4[d4.columns[1]].tolist()\n",
        "v5 = d5[d5.columns[1]].tolist()\n",
        "v6 = d6[d6.columns[1]].tolist()\n",
        "v7 = d7[d7.columns[1]].tolist()\n",
        "v8 = d8[d8.columns[1]].tolist()\n",
        "v9 = d9[d9.columns[1]].tolist()\n",
        "v10 = d10[d10.columns[1]].tolist()\n",
        "v = v1 + v2 + v3 + v4 + v5 + v6+ v7 + v8 + v9 + v10\n",
        "\n",
        "data_dict3 = {time_title: t, id_title: v}"
      ],
      "execution_count": null,
      "outputs": []
    },
    {
      "cell_type": "code",
      "metadata": {
        "id": "BihXij8HpcAP"
      },
      "source": [
        "column_length = []\n",
        "data_dict_concat = {}\n",
        "for i in range(5):\n",
        "  id_title = 'm_' + str(val_timeseries['id'][i])\n",
        "  time_title = 't_' + str(val_timeseries['id'][i])\n",
        "  data_dict = {time_title: [], id_title: []}\n",
        "  start = 99\n",
        "  end = 0\n",
        "\n",
        "  while end<2900:\n",
        "    print(i, end)\n",
        "    par0 = str(start) + 'd-ago'\n",
        "    par1 = str(end) + 'd-ago'\n",
        "    d = c.datapoints.retrieve(id=int(val_timeseries['id'][i]), start=par0, end=par1).to_pandas()\n",
        "    d.index.name = 'time'\n",
        "    d.reset_index(inplace=True)\n",
        "    t = data_dict[time_title] + d['time'].tolist()\n",
        "    v = data_dict[id_title] + d[d.columns[1]].tolist()\n",
        "    data_dict = {time_title: t, id_title:v}\n",
        "    start = start + 100\n",
        "    end = end + 100\n",
        "  \n",
        "  column_length.append(len(data_dict[time_title]))\n",
        "  data_dict_concat = {**data_dict_concat, **data_dict}\n",
        "print(column_length)"
      ],
      "execution_count": null,
      "outputs": []
    },
    {
      "cell_type": "code",
      "metadata": {
        "colab": {
          "base_uri": "https://localhost:8080/",
          "height": 35
        },
        "id": "dBvBi9FNRdHx",
        "outputId": "643d8554-7541-4bc8-98ea-c41a21e3825c"
      },
      "source": [
        "str(52336799167961)"
      ],
      "execution_count": null,
      "outputs": [
        {
          "output_type": "execute_result",
          "data": {
            "application/vnd.google.colaboratory.intrinsic+json": {
              "type": "string"
            },
            "text/plain": [
              "'52336799167961'"
            ]
          },
          "metadata": {},
          "execution_count": 9
        }
      ]
    },
    {
      "cell_type": "code",
      "metadata": {
        "colab": {
          "base_uri": "https://localhost:8080/"
        },
        "id": "r4gADe0fxeUD",
        "outputId": "e7d82ac2-bfdc-4034-b834-fea0728fbe74"
      },
      "source": [
        "x = 0\n",
        "a = 0\n",
        "b = 0\n",
        "dict2 = {1:[], 2:[], 3:[]}\n",
        "while x<10:\n",
        "  f = dict2[1]+[a, b]\n",
        "  dict2 = {1:f, 2:[1, 2], 3:[1, 2]}\n",
        "  x = x + 1\n",
        "  a = a + 1\n",
        "  b = b +1\n",
        "\n",
        "dict2, x, a, b"
      ],
      "execution_count": null,
      "outputs": [
        {
          "output_type": "execute_result",
          "data": {
            "text/plain": [
              "({1: [0, 0, 1, 1, 2, 2, 3, 3, 4, 4, 5, 5, 6, 6, 7, 7, 8, 8, 9, 9],\n",
              "  2: [1, 2],\n",
              "  3: [1, 2]},\n",
              " 10,\n",
              " 10,\n",
              " 10)"
            ]
          },
          "metadata": {},
          "execution_count": 78
        }
      ]
    },
    {
      "cell_type": "code",
      "metadata": {
        "id": "FbHhaVm1xoMS"
      },
      "source": [
        "t = np.arange(0, 10, 0.1) # Generate np arrays\n",
        "x = np.sin(t)\n",
        "data_dict1 = {'time1': t, 'signal1': x} # Group them in a dictionary\n",
        "data_dict2 = {'time2': t, 'signal2': x} # Group them in a dictionary\n",
        "data_dict3 = {**data_dict1, **data_dict2}\n",
        "out_file = 'binary_conc2'\n",
        "np.savez(out_file, **data_dict3) # Save dictionary to '.npz'-file\n"
      ],
      "execution_count": 35,
      "outputs": []
    },
    {
      "cell_type": "code",
      "source": [
        "new_data = np.load(out_file + '.npz') # Load '.npz'-file\n",
        "#plt.plot(new_data['time'], new_data['signal']) # Use loaded data\n",
        "new_dict = dict(new_data)\n",
        "new_dict"
      ],
      "metadata": {
        "id": "H2N3KcFEwoaX"
      },
      "execution_count": null,
      "outputs": []
    },
    {
      "cell_type": "code",
      "metadata": {
        "id": "Fb4bqB5ltj73"
      },
      "source": [
        "d = c.datapoints.retrieve(id=1106662769260201, start=\"900d-ago\", end=\"600d-ago\").to_pandas()\n",
        "d.index.name = 'time'\n",
        "d.reset_index(inplace=True)\n",
        "d"
      ],
      "execution_count": null,
      "outputs": []
    },
    {
      "cell_type": "code",
      "metadata": {
        "colab": {
          "base_uri": "https://localhost:8080/",
          "height": 434
        },
        "id": "N7Ub3E2HK5CN",
        "outputId": "dfae20d7-3041-4ece-b103-50a4ceaac95a"
      },
      "source": [
        "val_timeseries.head()"
      ],
      "execution_count": null,
      "outputs": [
        {
          "output_type": "execute_result",
          "data": {
            "text/html": [
              "<div>\n",
              "<style scoped>\n",
              "    .dataframe tbody tr th:only-of-type {\n",
              "        vertical-align: middle;\n",
              "    }\n",
              "\n",
              "    .dataframe tbody tr th {\n",
              "        vertical-align: top;\n",
              "    }\n",
              "\n",
              "    .dataframe thead th {\n",
              "        text-align: right;\n",
              "    }\n",
              "</style>\n",
              "<table border=\"1\" class=\"dataframe\">\n",
              "  <thead>\n",
              "    <tr style=\"text-align: right;\">\n",
              "      <th></th>\n",
              "      <th>id</th>\n",
              "      <th>externalId</th>\n",
              "      <th>name</th>\n",
              "      <th>isString</th>\n",
              "      <th>metadata</th>\n",
              "      <th>assetId</th>\n",
              "      <th>isStep</th>\n",
              "      <th>description</th>\n",
              "      <th>securityCategories</th>\n",
              "      <th>createdTime</th>\n",
              "      <th>lastUpdatedTime</th>\n",
              "      <th>unit</th>\n",
              "    </tr>\n",
              "  </thead>\n",
              "  <tbody>\n",
              "    <tr>\n",
              "      <th>0</th>\n",
              "      <td>6190956317771</td>\n",
              "      <td>pi:160627</td>\n",
              "      <td>VAL_23-PDT-92501:X.Value</td>\n",
              "      <td>False</td>\n",
              "      <td>{'tag': 'VAL_23-PDT-92501:X.Value', 'scan': '1...</td>\n",
              "      <td>5552927149248373</td>\n",
              "      <td>False</td>\n",
              "      <td>PH 1stStgSuctCool Gas In ESDV</td>\n",
              "      <td>[]</td>\n",
              "      <td>1593024714298</td>\n",
              "      <td>1593512847807</td>\n",
              "      <td>NaN</td>\n",
              "    </tr>\n",
              "    <tr>\n",
              "      <th>1</th>\n",
              "      <td>12378169571900</td>\n",
              "      <td>pi:161021</td>\n",
              "      <td>VAL_23-YA-96118-02:Z.X.Value</td>\n",
              "      <td>False</td>\n",
              "      <td>{'tag': 'VAL_23-YA-96118-02:Z.X.Value', 'scan'...</td>\n",
              "      <td>3111454725058294</td>\n",
              "      <td>False</td>\n",
              "      <td>PH 1stStg Gear1 Journ BRG NDE</td>\n",
              "      <td>[]</td>\n",
              "      <td>1593024714298</td>\n",
              "      <td>1593512902300</td>\n",
              "      <td>NaN</td>\n",
              "    </tr>\n",
              "    <tr>\n",
              "      <th>2</th>\n",
              "      <td>25870989735584</td>\n",
              "      <td>pi:160252</td>\n",
              "      <td>VAL_23-KA-9101-M01_OC_low stage_NOC3low:VALUE</td>\n",
              "      <td>False</td>\n",
              "      <td>{'tag': 'VAL_23-KA-9101-M01_OC_low stage_NOC3l...</td>\n",
              "      <td>6191827428964450</td>\n",
              "      <td>False</td>\n",
              "      <td>PH (SwitchGear) MV-COMP.M. FEEDER/ 51-protecti...</td>\n",
              "      <td>[]</td>\n",
              "      <td>1593024714298</td>\n",
              "      <td>1593512810583</td>\n",
              "      <td>NaN</td>\n",
              "    </tr>\n",
              "    <tr>\n",
              "      <th>4</th>\n",
              "      <td>52336799167961</td>\n",
              "      <td>pi:160731</td>\n",
              "      <td>VAL_23-PT-96186:Z.X1.Value</td>\n",
              "      <td>False</td>\n",
              "      <td>{'tag': 'VAL_23-PT-96186:Z.X1.Value', 'scan': ...</td>\n",
              "      <td>4499548129923245</td>\n",
              "      <td>False</td>\n",
              "      <td>PH 1st Stg Oil Header</td>\n",
              "      <td>[]</td>\n",
              "      <td>1593024714298</td>\n",
              "      <td>1593512866556</td>\n",
              "      <td>NaN</td>\n",
              "    </tr>\n",
              "    <tr>\n",
              "      <th>5</th>\n",
              "      <td>54795035045033</td>\n",
              "      <td>pi:160031</td>\n",
              "      <td>VAL_23_FIC_92543_02:Z.X.Value</td>\n",
              "      <td>False</td>\n",
              "      <td>{'tag': 'VAL_23_FIC_92543_02:Z.X.Value', 'scan...</td>\n",
              "      <td>7738334214915176</td>\n",
              "      <td>False</td>\n",
              "      <td>PH 1stStgComp AntSrg Act CntrlMod</td>\n",
              "      <td>[]</td>\n",
              "      <td>1593024714298</td>\n",
              "      <td>1593512911434</td>\n",
              "      <td>NaN</td>\n",
              "    </tr>\n",
              "  </tbody>\n",
              "</table>\n",
              "</div>"
            ],
            "text/plain": [
              "               id externalId  ... lastUpdatedTime  unit\n",
              "0   6190956317771  pi:160627  ...   1593512847807   NaN\n",
              "1  12378169571900  pi:161021  ...   1593512902300   NaN\n",
              "2  25870989735584  pi:160252  ...   1593512810583   NaN\n",
              "4  52336799167961  pi:160731  ...   1593512866556   NaN\n",
              "5  54795035045033  pi:160031  ...   1593512911434   NaN\n",
              "\n",
              "[5 rows x 12 columns]"
            ]
          },
          "metadata": {},
          "execution_count": 183
        }
      ]
    },
    {
      "cell_type": "code",
      "metadata": {
        "colab": {
          "base_uri": "https://localhost:8080/",
          "height": 434
        },
        "id": "PsMSK0Y7JiJU",
        "outputId": "d82e0416-7edf-49c2-f494-d6e0d431bcef"
      },
      "source": [
        "val_timeseries.index.name = 'ind'\n",
        "val_timeseries.reset_index(inplace=True)\n",
        "del val_timeseries['ind']\n",
        "val_timeseries.head()"
      ],
      "execution_count": null,
      "outputs": [
        {
          "output_type": "execute_result",
          "data": {
            "text/html": [
              "<div>\n",
              "<style scoped>\n",
              "    .dataframe tbody tr th:only-of-type {\n",
              "        vertical-align: middle;\n",
              "    }\n",
              "\n",
              "    .dataframe tbody tr th {\n",
              "        vertical-align: top;\n",
              "    }\n",
              "\n",
              "    .dataframe thead th {\n",
              "        text-align: right;\n",
              "    }\n",
              "</style>\n",
              "<table border=\"1\" class=\"dataframe\">\n",
              "  <thead>\n",
              "    <tr style=\"text-align: right;\">\n",
              "      <th></th>\n",
              "      <th>ind</th>\n",
              "      <th>id</th>\n",
              "      <th>externalId</th>\n",
              "      <th>name</th>\n",
              "      <th>isString</th>\n",
              "      <th>metadata</th>\n",
              "      <th>assetId</th>\n",
              "      <th>isStep</th>\n",
              "      <th>description</th>\n",
              "      <th>securityCategories</th>\n",
              "      <th>createdTime</th>\n",
              "      <th>lastUpdatedTime</th>\n",
              "      <th>unit</th>\n",
              "    </tr>\n",
              "  </thead>\n",
              "  <tbody>\n",
              "    <tr>\n",
              "      <th>0</th>\n",
              "      <td>0</td>\n",
              "      <td>6190956317771</td>\n",
              "      <td>pi:160627</td>\n",
              "      <td>VAL_23-PDT-92501:X.Value</td>\n",
              "      <td>False</td>\n",
              "      <td>{'tag': 'VAL_23-PDT-92501:X.Value', 'scan': '1...</td>\n",
              "      <td>5552927149248373</td>\n",
              "      <td>False</td>\n",
              "      <td>PH 1stStgSuctCool Gas In ESDV</td>\n",
              "      <td>[]</td>\n",
              "      <td>1593024714298</td>\n",
              "      <td>1593512847807</td>\n",
              "      <td>NaN</td>\n",
              "    </tr>\n",
              "    <tr>\n",
              "      <th>1</th>\n",
              "      <td>1</td>\n",
              "      <td>12378169571900</td>\n",
              "      <td>pi:161021</td>\n",
              "      <td>VAL_23-YA-96118-02:Z.X.Value</td>\n",
              "      <td>False</td>\n",
              "      <td>{'tag': 'VAL_23-YA-96118-02:Z.X.Value', 'scan'...</td>\n",
              "      <td>3111454725058294</td>\n",
              "      <td>False</td>\n",
              "      <td>PH 1stStg Gear1 Journ BRG NDE</td>\n",
              "      <td>[]</td>\n",
              "      <td>1593024714298</td>\n",
              "      <td>1593512902300</td>\n",
              "      <td>NaN</td>\n",
              "    </tr>\n",
              "    <tr>\n",
              "      <th>2</th>\n",
              "      <td>2</td>\n",
              "      <td>25870989735584</td>\n",
              "      <td>pi:160252</td>\n",
              "      <td>VAL_23-KA-9101-M01_OC_low stage_NOC3low:VALUE</td>\n",
              "      <td>False</td>\n",
              "      <td>{'tag': 'VAL_23-KA-9101-M01_OC_low stage_NOC3l...</td>\n",
              "      <td>6191827428964450</td>\n",
              "      <td>False</td>\n",
              "      <td>PH (SwitchGear) MV-COMP.M. FEEDER/ 51-protecti...</td>\n",
              "      <td>[]</td>\n",
              "      <td>1593024714298</td>\n",
              "      <td>1593512810583</td>\n",
              "      <td>NaN</td>\n",
              "    </tr>\n",
              "    <tr>\n",
              "      <th>3</th>\n",
              "      <td>4</td>\n",
              "      <td>52336799167961</td>\n",
              "      <td>pi:160731</td>\n",
              "      <td>VAL_23-PT-96186:Z.X1.Value</td>\n",
              "      <td>False</td>\n",
              "      <td>{'tag': 'VAL_23-PT-96186:Z.X1.Value', 'scan': ...</td>\n",
              "      <td>4499548129923245</td>\n",
              "      <td>False</td>\n",
              "      <td>PH 1st Stg Oil Header</td>\n",
              "      <td>[]</td>\n",
              "      <td>1593024714298</td>\n",
              "      <td>1593512866556</td>\n",
              "      <td>NaN</td>\n",
              "    </tr>\n",
              "    <tr>\n",
              "      <th>4</th>\n",
              "      <td>5</td>\n",
              "      <td>54795035045033</td>\n",
              "      <td>pi:160031</td>\n",
              "      <td>VAL_23_FIC_92543_02:Z.X.Value</td>\n",
              "      <td>False</td>\n",
              "      <td>{'tag': 'VAL_23_FIC_92543_02:Z.X.Value', 'scan...</td>\n",
              "      <td>7738334214915176</td>\n",
              "      <td>False</td>\n",
              "      <td>PH 1stStgComp AntSrg Act CntrlMod</td>\n",
              "      <td>[]</td>\n",
              "      <td>1593024714298</td>\n",
              "      <td>1593512911434</td>\n",
              "      <td>NaN</td>\n",
              "    </tr>\n",
              "  </tbody>\n",
              "</table>\n",
              "</div>"
            ],
            "text/plain": [
              "   ind              id externalId  ...    createdTime  lastUpdatedTime unit\n",
              "0    0   6190956317771  pi:160627  ...  1593024714298    1593512847807  NaN\n",
              "1    1  12378169571900  pi:161021  ...  1593024714298    1593512902300  NaN\n",
              "2    2  25870989735584  pi:160252  ...  1593024714298    1593512810583  NaN\n",
              "3    4  52336799167961  pi:160731  ...  1593024714298    1593512866556  NaN\n",
              "4    5  54795035045033  pi:160031  ...  1593024714298    1593512911434  NaN\n",
              "\n",
              "[5 rows x 13 columns]"
            ]
          },
          "metadata": {},
          "execution_count": 184
        }
      ]
    },
    {
      "cell_type": "code",
      "metadata": {
        "colab": {
          "base_uri": "https://localhost:8080/",
          "height": 434
        },
        "id": "5crVR3q_MBa2",
        "outputId": "da158454-81cb-4990-d165-db8d4c874fc1"
      },
      "source": [
        "del val_timeseries['ind']\n",
        "val_timeseries.head()"
      ],
      "execution_count": null,
      "outputs": [
        {
          "output_type": "execute_result",
          "data": {
            "text/html": [
              "<div>\n",
              "<style scoped>\n",
              "    .dataframe tbody tr th:only-of-type {\n",
              "        vertical-align: middle;\n",
              "    }\n",
              "\n",
              "    .dataframe tbody tr th {\n",
              "        vertical-align: top;\n",
              "    }\n",
              "\n",
              "    .dataframe thead th {\n",
              "        text-align: right;\n",
              "    }\n",
              "</style>\n",
              "<table border=\"1\" class=\"dataframe\">\n",
              "  <thead>\n",
              "    <tr style=\"text-align: right;\">\n",
              "      <th></th>\n",
              "      <th>id</th>\n",
              "      <th>externalId</th>\n",
              "      <th>name</th>\n",
              "      <th>isString</th>\n",
              "      <th>metadata</th>\n",
              "      <th>assetId</th>\n",
              "      <th>isStep</th>\n",
              "      <th>description</th>\n",
              "      <th>securityCategories</th>\n",
              "      <th>createdTime</th>\n",
              "      <th>lastUpdatedTime</th>\n",
              "      <th>unit</th>\n",
              "    </tr>\n",
              "  </thead>\n",
              "  <tbody>\n",
              "    <tr>\n",
              "      <th>0</th>\n",
              "      <td>6190956317771</td>\n",
              "      <td>pi:160627</td>\n",
              "      <td>VAL_23-PDT-92501:X.Value</td>\n",
              "      <td>False</td>\n",
              "      <td>{'tag': 'VAL_23-PDT-92501:X.Value', 'scan': '1...</td>\n",
              "      <td>5552927149248373</td>\n",
              "      <td>False</td>\n",
              "      <td>PH 1stStgSuctCool Gas In ESDV</td>\n",
              "      <td>[]</td>\n",
              "      <td>1593024714298</td>\n",
              "      <td>1593512847807</td>\n",
              "      <td>NaN</td>\n",
              "    </tr>\n",
              "    <tr>\n",
              "      <th>1</th>\n",
              "      <td>12378169571900</td>\n",
              "      <td>pi:161021</td>\n",
              "      <td>VAL_23-YA-96118-02:Z.X.Value</td>\n",
              "      <td>False</td>\n",
              "      <td>{'tag': 'VAL_23-YA-96118-02:Z.X.Value', 'scan'...</td>\n",
              "      <td>3111454725058294</td>\n",
              "      <td>False</td>\n",
              "      <td>PH 1stStg Gear1 Journ BRG NDE</td>\n",
              "      <td>[]</td>\n",
              "      <td>1593024714298</td>\n",
              "      <td>1593512902300</td>\n",
              "      <td>NaN</td>\n",
              "    </tr>\n",
              "    <tr>\n",
              "      <th>2</th>\n",
              "      <td>25870989735584</td>\n",
              "      <td>pi:160252</td>\n",
              "      <td>VAL_23-KA-9101-M01_OC_low stage_NOC3low:VALUE</td>\n",
              "      <td>False</td>\n",
              "      <td>{'tag': 'VAL_23-KA-9101-M01_OC_low stage_NOC3l...</td>\n",
              "      <td>6191827428964450</td>\n",
              "      <td>False</td>\n",
              "      <td>PH (SwitchGear) MV-COMP.M. FEEDER/ 51-protecti...</td>\n",
              "      <td>[]</td>\n",
              "      <td>1593024714298</td>\n",
              "      <td>1593512810583</td>\n",
              "      <td>NaN</td>\n",
              "    </tr>\n",
              "    <tr>\n",
              "      <th>3</th>\n",
              "      <td>52336799167961</td>\n",
              "      <td>pi:160731</td>\n",
              "      <td>VAL_23-PT-96186:Z.X1.Value</td>\n",
              "      <td>False</td>\n",
              "      <td>{'tag': 'VAL_23-PT-96186:Z.X1.Value', 'scan': ...</td>\n",
              "      <td>4499548129923245</td>\n",
              "      <td>False</td>\n",
              "      <td>PH 1st Stg Oil Header</td>\n",
              "      <td>[]</td>\n",
              "      <td>1593024714298</td>\n",
              "      <td>1593512866556</td>\n",
              "      <td>NaN</td>\n",
              "    </tr>\n",
              "    <tr>\n",
              "      <th>4</th>\n",
              "      <td>54795035045033</td>\n",
              "      <td>pi:160031</td>\n",
              "      <td>VAL_23_FIC_92543_02:Z.X.Value</td>\n",
              "      <td>False</td>\n",
              "      <td>{'tag': 'VAL_23_FIC_92543_02:Z.X.Value', 'scan...</td>\n",
              "      <td>7738334214915176</td>\n",
              "      <td>False</td>\n",
              "      <td>PH 1stStgComp AntSrg Act CntrlMod</td>\n",
              "      <td>[]</td>\n",
              "      <td>1593024714298</td>\n",
              "      <td>1593512911434</td>\n",
              "      <td>NaN</td>\n",
              "    </tr>\n",
              "  </tbody>\n",
              "</table>\n",
              "</div>"
            ],
            "text/plain": [
              "               id externalId  ... lastUpdatedTime  unit\n",
              "0   6190956317771  pi:160627  ...   1593512847807   NaN\n",
              "1  12378169571900  pi:161021  ...   1593512902300   NaN\n",
              "2  25870989735584  pi:160252  ...   1593512810583   NaN\n",
              "3  52336799167961  pi:160731  ...   1593512866556   NaN\n",
              "4  54795035045033  pi:160031  ...   1593512911434   NaN\n",
              "\n",
              "[5 rows x 12 columns]"
            ]
          },
          "metadata": {},
          "execution_count": 185
        }
      ]
    },
    {
      "cell_type": "code",
      "metadata": {
        "id": "iX5IdVEshYAI"
      },
      "source": [
        "x = 1\n",
        "d = c.datapoints.retrieve(id=52336799167961, start=\"900d-ago\", end=\"300d-ago\").to_pandas()\n",
        "\n"
      ],
      "execution_count": null,
      "outputs": []
    },
    {
      "cell_type": "code",
      "metadata": {
        "id": "zolQewq48Qz7"
      },
      "source": [
        "x = 2\n",
        "d = c.datapoints.retrieve(id=384300500341710, start=\"901d-ago\", end=\"1200d-ago\").to_pandas()\n",
        "d.index.name = 'time'\n",
        "d.reset_index(inplace=True)\n",
        "data_dict = {'time': d['time'], str(val_timeseries['externalId'][1]): d[d.columns[1]]}"
      ],
      "execution_count": null,
      "outputs": []
    },
    {
      "cell_type": "code",
      "metadata": {
        "id": "sq32riy47AJ0",
        "colab": {
          "base_uri": "https://localhost:8080/"
        },
        "outputId": "0c0802df-3ff8-4071-f213-96f28c2bef00"
      },
      "source": [
        "data_dict"
      ],
      "execution_count": null,
      "outputs": [
        {
          "output_type": "execute_result",
          "data": {
            "text/plain": [
              "{'m_25870989735584': [Series([], Name: pi:160252, dtype: float64)],\n",
              " 't_25870989735584': [Series([], Name: time, dtype: datetime64[ns])]}"
            ]
          },
          "metadata": {},
          "execution_count": 20
        }
      ]
    },
    {
      "cell_type": "code",
      "metadata": {
        "id": "OW7UfbdMxYPO",
        "colab": {
          "base_uri": "https://localhost:8080/",
          "height": 217
        },
        "outputId": "ab4bcaa0-a537-4580-cf60-243de174f5e1"
      },
      "source": [
        "x = 200\n",
        "var_name = '123' + '_' + str(x)\n",
        "d.columns = [ 'time', var_name]\n",
        "d.columns[1]"
      ],
      "execution_count": null,
      "outputs": [
        {
          "output_type": "error",
          "ename": "NameError",
          "evalue": "ignored",
          "traceback": [
            "\u001b[0;31m---------------------------------------------------------------------------\u001b[0m",
            "\u001b[0;31mNameError\u001b[0m                                 Traceback (most recent call last)",
            "\u001b[0;32m<ipython-input-9-5544d3e8ad80>\u001b[0m in \u001b[0;36m<module>\u001b[0;34m()\u001b[0m\n\u001b[1;32m      1\u001b[0m \u001b[0mx\u001b[0m \u001b[0;34m=\u001b[0m \u001b[0;36m200\u001b[0m\u001b[0;34m\u001b[0m\u001b[0;34m\u001b[0m\u001b[0m\n\u001b[1;32m      2\u001b[0m \u001b[0mvar_name\u001b[0m \u001b[0;34m=\u001b[0m \u001b[0;34m'123'\u001b[0m \u001b[0;34m+\u001b[0m \u001b[0;34m'_'\u001b[0m \u001b[0;34m+\u001b[0m \u001b[0mstr\u001b[0m\u001b[0;34m(\u001b[0m\u001b[0mx\u001b[0m\u001b[0;34m)\u001b[0m\u001b[0;34m\u001b[0m\u001b[0;34m\u001b[0m\u001b[0m\n\u001b[0;32m----> 3\u001b[0;31m \u001b[0md\u001b[0m\u001b[0;34m.\u001b[0m\u001b[0mcolumns\u001b[0m \u001b[0;34m=\u001b[0m \u001b[0;34m[\u001b[0m \u001b[0;34m'time'\u001b[0m\u001b[0;34m,\u001b[0m \u001b[0mvar_name\u001b[0m\u001b[0;34m]\u001b[0m\u001b[0;34m\u001b[0m\u001b[0;34m\u001b[0m\u001b[0m\n\u001b[0m\u001b[1;32m      4\u001b[0m \u001b[0md\u001b[0m\u001b[0;34m.\u001b[0m\u001b[0mcolumns\u001b[0m\u001b[0;34m[\u001b[0m\u001b[0;36m1\u001b[0m\u001b[0;34m]\u001b[0m\u001b[0;34m\u001b[0m\u001b[0;34m\u001b[0m\u001b[0m\n",
            "\u001b[0;31mNameError\u001b[0m: name 'd' is not defined"
          ]
        }
      ]
    },
    {
      "cell_type": "code",
      "metadata": {
        "id": "2KPurZrhyExM",
        "colab": {
          "base_uri": "https://localhost:8080/"
        },
        "outputId": "afb3bbe1-050d-453b-b561-a50a8d71718c"
      },
      "source": [
        "x = 200\n",
        "var_name = '123' + '_' + str(x)\n",
        "print (var_name)"
      ],
      "execution_count": null,
      "outputs": [
        {
          "output_type": "stream",
          "name": "stdout",
          "text": [
            "123_200\n"
          ]
        }
      ]
    },
    {
      "cell_type": "code",
      "metadata": {
        "id": "UrjhrFFpwi-P",
        "colab": {
          "base_uri": "https://localhost:8080/"
        },
        "outputId": "f4856d06-84bc-4b55-ec88-05dec42f779f"
      },
      "source": [
        "d[str(var_name)]\n"
      ],
      "execution_count": null,
      "outputs": [
        {
          "output_type": "execute_result",
          "data": {
            "text/plain": [
              "0        10000.0\n",
              "1        10000.0\n",
              "2        10000.0\n",
              "3        10000.0\n",
              "4        10000.0\n",
              "          ...   \n",
              "15906    10000.0\n",
              "15907    10000.0\n",
              "15908    10000.0\n",
              "15909    10000.0\n",
              "15910    10000.0\n",
              "Name: 123_200, Length: 15911, dtype: float64"
            ]
          },
          "metadata": {},
          "execution_count": 51
        }
      ]
    },
    {
      "cell_type": "code",
      "metadata": {
        "id": "Vvocyvuhy1vN",
        "colab": {
          "base_uri": "https://localhost:8080/"
        },
        "outputId": "5433c920-724a-48f1-ee6e-abde7e528807"
      },
      "source": [
        "15935/300"
      ],
      "execution_count": null,
      "outputs": [
        {
          "output_type": "execute_result",
          "data": {
            "text/plain": [
              "53.11666666666667"
            ]
          },
          "metadata": {},
          "execution_count": 13
        }
      ]
    },
    {
      "cell_type": "code",
      "metadata": {
        "id": "_-6pyeC4hYAJ"
      },
      "source": [
        "d = c.datapoints.retrieve(id=944003029648139, start=\"500d-ago\", end=\"now\").to_pandas()"
      ],
      "execution_count": null,
      "outputs": []
    },
    {
      "cell_type": "code",
      "metadata": {
        "id": "3Z70EfOtBeD7",
        "colab": {
          "base_uri": "https://localhost:8080/"
        },
        "outputId": "34ff3f29-d944-4606-e760-2915cf1d4db2"
      },
      "source": [
        "len(d)"
      ],
      "execution_count": null,
      "outputs": [
        {
          "output_type": "execute_result",
          "data": {
            "text/plain": [
              "2616375"
            ]
          },
          "metadata": {},
          "execution_count": 8
        }
      ]
    },
    {
      "cell_type": "code",
      "metadata": {
        "id": "VUP7wSg8EFGr"
      },
      "source": [
        "d[:50]"
      ],
      "execution_count": null,
      "outputs": []
    },
    {
      "cell_type": "code",
      "metadata": {
        "id": "lEChiGQMhYAL"
      },
      "source": [
        "my_time_series = c.time_series.retrieve(id=52336799167961)\n"
      ],
      "execution_count": null,
      "outputs": []
    },
    {
      "cell_type": "code",
      "metadata": {
        "id": "KVWjTDoyhYAN"
      },
      "source": [
        "from cognite.client.data_classes import Asset"
      ],
      "execution_count": null,
      "outputs": []
    },
    {
      "cell_type": "code",
      "metadata": {
        "id": "_WHJfqxrjpNH"
      },
      "source": [
        "subtree_root_asset=\"pi:160627\"\n",
        "subtree = c.assets.retrieve(external_id=subtree_root_asset).subtree()\n",
        "related_events = subtree.events() "
      ],
      "execution_count": null,
      "outputs": []
    },
    {
      "cell_type": "code",
      "metadata": {
        "colab": {
          "base_uri": "https://localhost:8080/"
        },
        "id": "mHKLj72QNyM-",
        "outputId": "0b039d08-4d8b-4ec3-8adf-bd46b76e8953"
      },
      "source": [
        "dict1 = {\"Name\":[],\"Address\":[],\"Age\":[]};\n",
        "dict2 = {}\n",
        "dict2.update(dict1)\n",
        "print(dict2)"
      ],
      "execution_count": null,
      "outputs": [
        {
          "output_type": "stream",
          "name": "stdout",
          "text": [
            "{'Name': [], 'Address': [], 'Age': []}\n"
          ]
        }
      ]
    },
    {
      "cell_type": "code",
      "metadata": {
        "id": "m-YeoiQKOxx2"
      },
      "source": [
        "dict1 = {\"Name\":[],\"Address\":[],\"Age\":[]};\n",
        "dict2 = {}\n",
        "a=1\n",
        "x=2\n",
        "y=2\n",
        "z=3\n",
        "k='_'\n",
        "var1=str(x) + k + str(a)\n",
        "var2 = str(x) + k + str(y)\n",
        "var3 = str(x) + k + str(z)\n",
        "dict3 = {var1:[1,1,1], var2:[2,2,2], var3:[3,3,3]}\n",
        "dict4 = {var1:[1,1,1], var2:[2,2,2], var3:[3,3,3]}\n",
        "dict2.update(dict1)\n",
        "dict2.update(dict3)\n",
        "dict2.update(dict4)"
      ],
      "execution_count": null,
      "outputs": []
    },
    {
      "cell_type": "code",
      "metadata": {
        "id": "C1pTL391QZMM"
      },
      "source": [
        "import numpy as np\n",
        "M = np.zeros((363, 2500000), dtype = np.float64)"
      ],
      "execution_count": null,
      "outputs": []
    },
    {
      "cell_type": "code",
      "metadata": {
        "id": "OpSgW0Wi8m45",
        "outputId": "528d14c3-d674-4ad9-8c38-be4003bb9076",
        "colab": {
          "base_uri": "https://localhost:8080/"
        }
      },
      "source": [
        "import sys\n",
        "sys.getsizeof(M)"
      ],
      "execution_count": null,
      "outputs": [
        {
          "output_type": "execute_result",
          "data": {
            "text/plain": [
              "7260000112"
            ]
          },
          "metadata": {},
          "execution_count": 6
        }
      ]
    }
  ]
}