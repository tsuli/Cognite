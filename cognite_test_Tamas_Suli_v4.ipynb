{
  "nbformat": 4,
  "nbformat_minor": 0,
  "metadata": {
    "kernelspec": {
      "display_name": "Python 3",
      "language": "python",
      "name": "python3"
    },
    "language_info": {
      "codemirror_mode": {
        "name": "ipython",
        "version": 3
      },
      "file_extension": ".py",
      "mimetype": "text/x-python",
      "name": "python",
      "nbconvert_exporter": "python",
      "pygments_lexer": "ipython3",
      "version": "3.8.3"
    },
    "colab": {
      "name": "cognite_test_Tamas_Suli_v2.ipynb",
      "provenance": []
    }
  },
  "cells": [
    {
      "cell_type": "code",
      "metadata": {
        "id": "qou8D8FMhX_6",
        "colab": {
          "base_uri": "https://localhost:8080/"
        },
        "outputId": "48ce8834-4646-4e8a-8e1f-26a47e0a33bf"
      },
      "source": [
        "#!pip install cognite-sdk\n",
        "!pip install --upgrade cognite-sdk"
      ],
      "execution_count": 1,
      "outputs": [
        {
          "output_type": "stream",
          "name": "stdout",
          "text": [
            "Collecting cognite-sdk\n",
            "  Downloading cognite_sdk-2.32.0-py3-none-any.whl (162 kB)\n",
            "\u001b[?25l\r\u001b[K     |██                              | 10 kB 20.0 MB/s eta 0:00:01\r\u001b[K     |████                            | 20 kB 25.1 MB/s eta 0:00:01\r\u001b[K     |██████                          | 30 kB 22.6 MB/s eta 0:00:01\r\u001b[K     |████████                        | 40 kB 18.9 MB/s eta 0:00:01\r\u001b[K     |██████████                      | 51 kB 9.5 MB/s eta 0:00:01\r\u001b[K     |████████████                    | 61 kB 7.7 MB/s eta 0:00:01\r\u001b[K     |██████████████▏                 | 71 kB 8.4 MB/s eta 0:00:01\r\u001b[K     |████████████████▏               | 81 kB 9.4 MB/s eta 0:00:01\r\u001b[K     |██████████████████▏             | 92 kB 7.7 MB/s eta 0:00:01\r\u001b[K     |████████████████████▏           | 102 kB 8.3 MB/s eta 0:00:01\r\u001b[K     |██████████████████████▏         | 112 kB 8.3 MB/s eta 0:00:01\r\u001b[K     |████████████████████████▏       | 122 kB 8.3 MB/s eta 0:00:01\r\u001b[K     |██████████████████████████▏     | 133 kB 8.3 MB/s eta 0:00:01\r\u001b[K     |████████████████████████████▎   | 143 kB 8.3 MB/s eta 0:00:01\r\u001b[K     |██████████████████████████████▎ | 153 kB 8.3 MB/s eta 0:00:01\r\u001b[K     |████████████████████████████████| 162 kB 8.3 MB/s \n",
            "\u001b[?25hRequirement already satisfied: requests-oauthlib==1.3.0 in /usr/local/lib/python3.7/dist-packages (from cognite-sdk) (1.3.0)\n",
            "Requirement already satisfied: pandas in /usr/local/lib/python3.7/dist-packages (from cognite-sdk) (1.1.5)\n",
            "Requirement already satisfied: requests<3.0.0,>=2.21.0 in /usr/local/lib/python3.7/dist-packages (from cognite-sdk) (2.23.0)\n",
            "Requirement already satisfied: oauthlib>=3.0.0 in /usr/local/lib/python3.7/dist-packages (from requests-oauthlib==1.3.0->cognite-sdk) (3.1.1)\n",
            "Requirement already satisfied: idna<3,>=2.5 in /usr/local/lib/python3.7/dist-packages (from requests<3.0.0,>=2.21.0->cognite-sdk) (2.10)\n",
            "Requirement already satisfied: urllib3!=1.25.0,!=1.25.1,<1.26,>=1.21.1 in /usr/local/lib/python3.7/dist-packages (from requests<3.0.0,>=2.21.0->cognite-sdk) (1.24.3)\n",
            "Requirement already satisfied: certifi>=2017.4.17 in /usr/local/lib/python3.7/dist-packages (from requests<3.0.0,>=2.21.0->cognite-sdk) (2021.5.30)\n",
            "Requirement already satisfied: chardet<4,>=3.0.2 in /usr/local/lib/python3.7/dist-packages (from requests<3.0.0,>=2.21.0->cognite-sdk) (3.0.4)\n",
            "Requirement already satisfied: pytz>=2017.2 in /usr/local/lib/python3.7/dist-packages (from pandas->cognite-sdk) (2018.9)\n",
            "Requirement already satisfied: python-dateutil>=2.7.3 in /usr/local/lib/python3.7/dist-packages (from pandas->cognite-sdk) (2.8.2)\n",
            "Requirement already satisfied: numpy>=1.15.4 in /usr/local/lib/python3.7/dist-packages (from pandas->cognite-sdk) (1.19.5)\n",
            "Requirement already satisfied: six>=1.5 in /usr/local/lib/python3.7/dist-packages (from python-dateutil>=2.7.3->pandas->cognite-sdk) (1.15.0)\n",
            "Installing collected packages: cognite-sdk\n",
            "Successfully installed cognite-sdk-2.32.0\n"
          ]
        }
      ]
    },
    {
      "cell_type": "code",
      "metadata": {
        "id": "MI_UJEHuhYAE"
      },
      "source": [
        "%matplotlib inline\n",
        "\n",
        "import os\n",
        "from datetime import datetime, timedelta\n",
        "from datetime import datetime\n",
        "from getpass import getpass\n",
        "\n",
        "import numpy as np\n",
        "import pandas as pd\n",
        "import matplotlib.pyplot as plt\n",
        "from sklearn.ensemble import RandomForestRegressor\n",
        "from sklearn.linear_model import LinearRegression\n",
        "from sklearn.metrics import mean_squared_error\n",
        "from sklearn.metrics import r2_score\n",
        "\n",
        "from cognite.client import CogniteClient"
      ],
      "execution_count": 2,
      "outputs": []
    },
    {
      "cell_type": "code",
      "metadata": {
        "id": "GBLUi1FrhYAG",
        "colab": {
          "base_uri": "https://localhost:8080/"
        },
        "outputId": "2ed3cc8e-1064-455f-9ffe-c855e6e83a8a"
      },
      "source": [
        "c = CogniteClient(api_key=getpass(\"Open Industrial Data API-KEY: \"),\n",
        "                       project=\"publicdata\", client_name=\"Tamas Suli\")"
      ],
      "execution_count": 3,
      "outputs": [
        {
          "name": "stdout",
          "output_type": "stream",
          "text": [
            "Open Industrial Data API-KEY: ··········\n"
          ]
        }
      ]
    },
    {
      "cell_type": "code",
      "metadata": {
        "id": "4D8wg3h7hYAH",
        "colab": {
          "base_uri": "https://localhost:8080/",
          "height": 248
        },
        "outputId": "80fd65b1-149e-43ac-df1f-06bafc38c310"
      },
      "source": [
        "all_timeseries = c.time_series.list(limit=-1).to_pandas()\n",
        "print(len(all_timeseries))\n",
        "all_timeseries[:2]"
      ],
      "execution_count": 8,
      "outputs": [
        {
          "output_type": "stream",
          "name": "stdout",
          "text": [
            "408\n"
          ]
        },
        {
          "output_type": "execute_result",
          "data": {
            "text/html": [
              "<div>\n",
              "<style scoped>\n",
              "    .dataframe tbody tr th:only-of-type {\n",
              "        vertical-align: middle;\n",
              "    }\n",
              "\n",
              "    .dataframe tbody tr th {\n",
              "        vertical-align: top;\n",
              "    }\n",
              "\n",
              "    .dataframe thead th {\n",
              "        text-align: right;\n",
              "    }\n",
              "</style>\n",
              "<table border=\"1\" class=\"dataframe\">\n",
              "  <thead>\n",
              "    <tr style=\"text-align: right;\">\n",
              "      <th></th>\n",
              "      <th>id</th>\n",
              "      <th>externalId</th>\n",
              "      <th>name</th>\n",
              "      <th>isString</th>\n",
              "      <th>metadata</th>\n",
              "      <th>assetId</th>\n",
              "      <th>isStep</th>\n",
              "      <th>description</th>\n",
              "      <th>securityCategories</th>\n",
              "      <th>createdTime</th>\n",
              "      <th>lastUpdatedTime</th>\n",
              "      <th>unit</th>\n",
              "    </tr>\n",
              "  </thead>\n",
              "  <tbody>\n",
              "    <tr>\n",
              "      <th>0</th>\n",
              "      <td>6190956317771</td>\n",
              "      <td>pi:160627</td>\n",
              "      <td>VAL_23-PDT-92501:X.Value</td>\n",
              "      <td>False</td>\n",
              "      <td>{'tag': 'VAL_23-PDT-92501:X.Value', 'scan': '1...</td>\n",
              "      <td>5552927149248373</td>\n",
              "      <td>False</td>\n",
              "      <td>PH 1stStgSuctCool Gas In ESDV</td>\n",
              "      <td>[]</td>\n",
              "      <td>1593024714298</td>\n",
              "      <td>1593512847807</td>\n",
              "      <td>NaN</td>\n",
              "    </tr>\n",
              "    <tr>\n",
              "      <th>1</th>\n",
              "      <td>12378169571900</td>\n",
              "      <td>pi:161021</td>\n",
              "      <td>VAL_23-YA-96118-02:Z.X.Value</td>\n",
              "      <td>False</td>\n",
              "      <td>{'tag': 'VAL_23-YA-96118-02:Z.X.Value', 'scan'...</td>\n",
              "      <td>3111454725058294</td>\n",
              "      <td>False</td>\n",
              "      <td>PH 1stStg Gear1 Journ BRG NDE</td>\n",
              "      <td>[]</td>\n",
              "      <td>1593024714298</td>\n",
              "      <td>1593512902300</td>\n",
              "      <td>NaN</td>\n",
              "    </tr>\n",
              "  </tbody>\n",
              "</table>\n",
              "</div>"
            ],
            "text/plain": [
              "               id externalId  ... lastUpdatedTime  unit\n",
              "0   6190956317771  pi:160627  ...   1593512847807   NaN\n",
              "1  12378169571900  pi:161021  ...   1593512902300   NaN\n",
              "\n",
              "[2 rows x 12 columns]"
            ]
          },
          "metadata": {},
          "execution_count": 8
        }
      ]
    },
    {
      "cell_type": "code",
      "metadata": {
        "id": "02-vEZ286BHO"
      },
      "source": [
        "val_timeseries = all_timeseries[all_timeseries['name'].str.contains('VAL_', regex=False)]"
      ],
      "execution_count": 24,
      "outputs": []
    },
    {
      "cell_type": "code",
      "metadata": {
        "id": "hbuIghH3u0tj"
      },
      "source": [
        "all_timeseries.to_csv('all_timeseries.csv', header = True, index = False)"
      ],
      "execution_count": 23,
      "outputs": []
    },
    {
      "cell_type": "code",
      "metadata": {
        "id": "VlmARlnt6cKT"
      },
      "source": [
        "val_timeseries.to_csv('val_timeseries.csv', header = True, index = False)"
      ],
      "execution_count": 26,
      "outputs": []
    },
    {
      "cell_type": "code",
      "metadata": {
        "id": "_TnUjf78iu0a",
        "outputId": "fee84811-4923-4390-c64d-01b56cb24076",
        "colab": {
          "base_uri": "https://localhost:8080/"
        }
      },
      "source": [
        "val_timeseries['id'].head()"
      ],
      "execution_count": 28,
      "outputs": [
        {
          "output_type": "execute_result",
          "data": {
            "text/plain": [
              "0     6190956317771\n",
              "1    12378169571900\n",
              "2    25870989735584\n",
              "4    52336799167961\n",
              "5    54795035045033\n",
              "Name: id, dtype: int64"
            ]
          },
          "metadata": {},
          "execution_count": 28
        }
      ]
    },
    {
      "cell_type": "code",
      "metadata": {
        "id": "I39Lsmdf9nOO",
        "outputId": "1f6d4e35-f21b-4941-e467-72a41d12a096",
        "colab": {
          "base_uri": "https://localhost:8080/"
        }
      },
      "source": [
        "val_timeseries['id'][2]"
      ],
      "execution_count": 30,
      "outputs": [
        {
          "output_type": "execute_result",
          "data": {
            "text/plain": [
              "25870989735584"
            ]
          },
          "metadata": {},
          "execution_count": 30
        }
      ]
    },
    {
      "cell_type": "code",
      "metadata": {
        "id": "fdC2g2lY9tUk"
      },
      "source": [
        ""
      ],
      "execution_count": null,
      "outputs": []
    },
    {
      "cell_type": "code",
      "metadata": {
        "id": "31HbQCpb9r8i"
      },
      "source": [
        ""
      ],
      "execution_count": null,
      "outputs": []
    },
    {
      "cell_type": "code",
      "metadata": {
        "id": "jscCveeg9h1Y"
      },
      "source": [
        ""
      ],
      "execution_count": null,
      "outputs": []
    },
    {
      "cell_type": "code",
      "metadata": {
        "id": "iX5IdVEshYAI",
        "colab": {
          "base_uri": "https://localhost:8080/",
          "height": 203
        },
        "outputId": "69411e54-9b1d-45ae-ecbe-5b46ee4f4db4"
      },
      "source": [
        "c.datapoints.retrieve(id=384300500341710, start=\"600d-ago\", end=\"now\").to_pandas().head()"
      ],
      "execution_count": 9,
      "outputs": [
        {
          "output_type": "execute_result",
          "data": {
            "text/html": [
              "<div>\n",
              "<style scoped>\n",
              "    .dataframe tbody tr th:only-of-type {\n",
              "        vertical-align: middle;\n",
              "    }\n",
              "\n",
              "    .dataframe tbody tr th {\n",
              "        vertical-align: top;\n",
              "    }\n",
              "\n",
              "    .dataframe thead th {\n",
              "        text-align: right;\n",
              "    }\n",
              "</style>\n",
              "<table border=\"1\" class=\"dataframe\">\n",
              "  <thead>\n",
              "    <tr style=\"text-align: right;\">\n",
              "      <th></th>\n",
              "      <th>pi:160566</th>\n",
              "    </tr>\n",
              "  </thead>\n",
              "  <tbody>\n",
              "    <tr>\n",
              "      <th>2020-08-05 15:51:18.020</th>\n",
              "      <td>10000.0</td>\n",
              "    </tr>\n",
              "    <tr>\n",
              "      <th>2020-08-05 16:01:18.020</th>\n",
              "      <td>10000.0</td>\n",
              "    </tr>\n",
              "    <tr>\n",
              "      <th>2020-08-05 16:11:18.020</th>\n",
              "      <td>10000.0</td>\n",
              "    </tr>\n",
              "    <tr>\n",
              "      <th>2020-08-05 16:21:18.020</th>\n",
              "      <td>10000.0</td>\n",
              "    </tr>\n",
              "    <tr>\n",
              "      <th>2020-08-05 16:31:18.020</th>\n",
              "      <td>10000.0</td>\n",
              "    </tr>\n",
              "  </tbody>\n",
              "</table>\n",
              "</div>"
            ],
            "text/plain": [
              "                         pi:160566\n",
              "2020-08-05 15:51:18.020    10000.0\n",
              "2020-08-05 16:01:18.020    10000.0\n",
              "2020-08-05 16:11:18.020    10000.0\n",
              "2020-08-05 16:21:18.020    10000.0\n",
              "2020-08-05 16:31:18.020    10000.0"
            ]
          },
          "metadata": {},
          "execution_count": 9
        }
      ]
    },
    {
      "cell_type": "code",
      "metadata": {
        "id": "_-6pyeC4hYAJ",
        "outputId": "1f6698cc-8df1-40b5-dc6a-83dd2935195e",
        "colab": {
          "base_uri": "https://localhost:8080/",
          "height": 203
        }
      },
      "source": [
        "c.datapoints.retrieve(id=384300500341710, start=\"600d-ago\", end=\"now\").to_pandas().head()"
      ],
      "execution_count": 32,
      "outputs": [
        {
          "output_type": "execute_result",
          "data": {
            "text/html": [
              "<div>\n",
              "<style scoped>\n",
              "    .dataframe tbody tr th:only-of-type {\n",
              "        vertical-align: middle;\n",
              "    }\n",
              "\n",
              "    .dataframe tbody tr th {\n",
              "        vertical-align: top;\n",
              "    }\n",
              "\n",
              "    .dataframe thead th {\n",
              "        text-align: right;\n",
              "    }\n",
              "</style>\n",
              "<table border=\"1\" class=\"dataframe\">\n",
              "  <thead>\n",
              "    <tr style=\"text-align: right;\">\n",
              "      <th></th>\n",
              "      <th>pi:160566</th>\n",
              "    </tr>\n",
              "  </thead>\n",
              "  <tbody>\n",
              "    <tr>\n",
              "      <th>2020-08-05 15:51:18.020</th>\n",
              "      <td>10000.0</td>\n",
              "    </tr>\n",
              "    <tr>\n",
              "      <th>2020-08-05 16:01:18.020</th>\n",
              "      <td>10000.0</td>\n",
              "    </tr>\n",
              "    <tr>\n",
              "      <th>2020-08-05 16:11:18.020</th>\n",
              "      <td>10000.0</td>\n",
              "    </tr>\n",
              "    <tr>\n",
              "      <th>2020-08-05 16:21:18.020</th>\n",
              "      <td>10000.0</td>\n",
              "    </tr>\n",
              "    <tr>\n",
              "      <th>2020-08-05 16:31:18.020</th>\n",
              "      <td>10000.0</td>\n",
              "    </tr>\n",
              "  </tbody>\n",
              "</table>\n",
              "</div>"
            ],
            "text/plain": [
              "                         pi:160566\n",
              "2020-08-05 15:51:18.020    10000.0\n",
              "2020-08-05 16:01:18.020    10000.0\n",
              "2020-08-05 16:11:18.020    10000.0\n",
              "2020-08-05 16:21:18.020    10000.0\n",
              "2020-08-05 16:31:18.020    10000.0"
            ]
          },
          "metadata": {},
          "execution_count": 32
        }
      ]
    },
    {
      "cell_type": "code",
      "metadata": {
        "id": "lEChiGQMhYAL",
        "outputId": "9fc11e67-5660-4635-e73e-8c6a9b651f32"
      },
      "source": [
        "my_time_series = c.time_series.retrieve(id=944003029648139)\n",
        "my_time_series.plot(start=\"365d-ago\", end=\"now\")"
      ],
      "execution_count": null,
      "outputs": [
        {
          "data": {
            "image/png": "[encoded data removed]",
            "text/plain": [
              "<Figure size 432x288 with 1 Axes>"
            ]
          },
          "metadata": {
            "needs_background": "light"
          },
          "output_type": "display_data"
        }
      ]
    },
    {
      "cell_type": "code",
      "metadata": {
        "id": "KVWjTDoyhYAN"
      },
      "source": [
        "from cognite.client.data_classes import Asset"
      ],
      "execution_count": 17,
      "outputs": []
    },
    {
      "cell_type": "code",
      "metadata": {
        "id": "_WHJfqxrjpNH",
        "outputId": "c24ca69a-6b8b-4735-dee4-3c38d5d2b667",
        "colab": {
          "base_uri": "https://localhost:8080/",
          "height": 195
        }
      },
      "source": [
        "subtree_root_asset=\"pi:160627\"\n",
        "subtree = c.assets.retrieve(external_id=subtree_root_asset).subtree()\n",
        "related_events = subtree.events() "
      ],
      "execution_count": 19,
      "outputs": [
        {
          "output_type": "error",
          "ename": "AttributeError",
          "evalue": "ignored",
          "traceback": [
            "\u001b[0;31m---------------------------------------------------------------------------\u001b[0m",
            "\u001b[0;31mAttributeError\u001b[0m                            Traceback (most recent call last)",
            "\u001b[0;32m<ipython-input-19-6c9c1d46c6b7>\u001b[0m in \u001b[0;36m<module>\u001b[0;34m()\u001b[0m\n\u001b[1;32m      1\u001b[0m \u001b[0msubtree_root_asset\u001b[0m\u001b[0;34m=\u001b[0m\u001b[0;34m\"pi:160627\"\u001b[0m\u001b[0;34m\u001b[0m\u001b[0;34m\u001b[0m\u001b[0m\n\u001b[0;32m----> 2\u001b[0;31m \u001b[0msubtree\u001b[0m \u001b[0;34m=\u001b[0m \u001b[0mc\u001b[0m\u001b[0;34m.\u001b[0m\u001b[0massets\u001b[0m\u001b[0;34m.\u001b[0m\u001b[0mretrieve\u001b[0m\u001b[0;34m(\u001b[0m\u001b[0mexternal_id\u001b[0m\u001b[0;34m=\u001b[0m\u001b[0msubtree_root_asset\u001b[0m\u001b[0;34m)\u001b[0m\u001b[0;34m.\u001b[0m\u001b[0msubtree\u001b[0m\u001b[0;34m(\u001b[0m\u001b[0;34m)\u001b[0m\u001b[0;34m\u001b[0m\u001b[0;34m\u001b[0m\u001b[0m\n\u001b[0m\u001b[1;32m      3\u001b[0m \u001b[0mrelated_events\u001b[0m \u001b[0;34m=\u001b[0m \u001b[0msubtree\u001b[0m\u001b[0;34m.\u001b[0m\u001b[0mevents\u001b[0m\u001b[0;34m(\u001b[0m\u001b[0;34m)\u001b[0m\u001b[0;34m\u001b[0m\u001b[0;34m\u001b[0m\u001b[0m\n",
            "\u001b[0;31mAttributeError\u001b[0m: 'NoneType' object has no attribute 'subtree'"
          ]
        }
      ]
    }
  ]
}