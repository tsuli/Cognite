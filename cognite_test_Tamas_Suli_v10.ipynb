{
  "nbformat": 4,
  "nbformat_minor": 0,
  "metadata": {
    "kernelspec": {
      "display_name": "Python 3",
      "language": "python",
      "name": "python3"
    },
    "language_info": {
      "codemirror_mode": {
        "name": "ipython",
        "version": 3
      },
      "file_extension": ".py",
      "mimetype": "text/x-python",
      "name": "python",
      "nbconvert_exporter": "python",
      "pygments_lexer": "ipython3",
      "version": "3.8.3"
    },
    "colab": {
      "name": "cognite_test_Tamas_Suli_v2.ipynb",
      "provenance": [],
      "include_colab_link": true
    }
  },
  "cells": [
    {
      "cell_type": "markdown",
      "metadata": {
        "id": "view-in-github",
        "colab_type": "text"
      },
      "source": [
        "<a href=\"https://colab.research.google.com/github/tsuli/Cognite/blob/main/cognite_test_Tamas_Suli_v10.ipynb\" target=\"_parent\"><img src=\"https://colab.research.google.com/assets/colab-badge.svg\" alt=\"Open In Colab\"/></a>"
      ]
    },
    {
      "cell_type": "code",
      "metadata": {
        "id": "qou8D8FMhX_6",
        "colab": {
          "base_uri": "https://localhost:8080/"
        },
        "outputId": "6de7307d-82c3-4714-df2c-e98ff1722cc8"
      },
      "source": [
        "#!pip install cognite-sdk\n",
        "!pip install --upgrade cognite-sdk"
      ],
      "execution_count": 1,
      "outputs": [
        {
          "output_type": "stream",
          "name": "stdout",
          "text": [
            "Collecting cognite-sdk\n",
            "  Downloading cognite_sdk-2.38.4-py3-none-any.whl (181 kB)\n",
            "\u001b[?25l\r\u001b[K     |█▉                              | 10 kB 19.7 MB/s eta 0:00:01\r\u001b[K     |███▋                            | 20 kB 22.4 MB/s eta 0:00:01\r\u001b[K     |█████▍                          | 30 kB 13.0 MB/s eta 0:00:01\r\u001b[K     |███████▏                        | 40 kB 7.3 MB/s eta 0:00:01\r\u001b[K     |█████████                       | 51 kB 6.3 MB/s eta 0:00:01\r\u001b[K     |██████████▉                     | 61 kB 6.3 MB/s eta 0:00:01\r\u001b[K     |████████████▋                   | 71 kB 6.2 MB/s eta 0:00:01\r\u001b[K     |██████████████▍                 | 81 kB 6.9 MB/s eta 0:00:01\r\u001b[K     |████████████████▎               | 92 kB 5.4 MB/s eta 0:00:01\r\u001b[K     |██████████████████              | 102 kB 5.7 MB/s eta 0:00:01\r\u001b[K     |███████████████████▉            | 112 kB 5.7 MB/s eta 0:00:01\r\u001b[K     |█████████████████████▋          | 122 kB 5.7 MB/s eta 0:00:01\r\u001b[K     |███████████████████████▍        | 133 kB 5.7 MB/s eta 0:00:01\r\u001b[K     |█████████████████████████▎      | 143 kB 5.7 MB/s eta 0:00:01\r\u001b[K     |███████████████████████████     | 153 kB 5.7 MB/s eta 0:00:01\r\u001b[K     |████████████████████████████▉   | 163 kB 5.7 MB/s eta 0:00:01\r\u001b[K     |██████████████████████████████▋ | 174 kB 5.7 MB/s eta 0:00:01\r\u001b[K     |████████████████████████████████| 181 kB 5.7 MB/s \n",
            "\u001b[?25hRequirement already satisfied: pandas in /usr/local/lib/python3.7/dist-packages (from cognite-sdk) (1.1.5)\n",
            "Requirement already satisfied: requests-oauthlib==1.3.0 in /usr/local/lib/python3.7/dist-packages (from cognite-sdk) (1.3.0)\n",
            "Requirement already satisfied: requests<3.0.0,>=2.21.0 in /usr/local/lib/python3.7/dist-packages (from cognite-sdk) (2.23.0)\n",
            "Requirement already satisfied: oauthlib>=3.0.0 in /usr/local/lib/python3.7/dist-packages (from requests-oauthlib==1.3.0->cognite-sdk) (3.1.1)\n",
            "Requirement already satisfied: chardet<4,>=3.0.2 in /usr/local/lib/python3.7/dist-packages (from requests<3.0.0,>=2.21.0->cognite-sdk) (3.0.4)\n",
            "Requirement already satisfied: urllib3!=1.25.0,!=1.25.1,<1.26,>=1.21.1 in /usr/local/lib/python3.7/dist-packages (from requests<3.0.0,>=2.21.0->cognite-sdk) (1.24.3)\n",
            "Requirement already satisfied: idna<3,>=2.5 in /usr/local/lib/python3.7/dist-packages (from requests<3.0.0,>=2.21.0->cognite-sdk) (2.10)\n",
            "Requirement already satisfied: certifi>=2017.4.17 in /usr/local/lib/python3.7/dist-packages (from requests<3.0.0,>=2.21.0->cognite-sdk) (2021.10.8)\n",
            "Requirement already satisfied: pytz>=2017.2 in /usr/local/lib/python3.7/dist-packages (from pandas->cognite-sdk) (2018.9)\n",
            "Requirement already satisfied: numpy>=1.15.4 in /usr/local/lib/python3.7/dist-packages (from pandas->cognite-sdk) (1.19.5)\n",
            "Requirement already satisfied: python-dateutil>=2.7.3 in /usr/local/lib/python3.7/dist-packages (from pandas->cognite-sdk) (2.8.2)\n",
            "Requirement already satisfied: six>=1.5 in /usr/local/lib/python3.7/dist-packages (from python-dateutil>=2.7.3->pandas->cognite-sdk) (1.15.0)\n",
            "Installing collected packages: cognite-sdk\n",
            "Successfully installed cognite-sdk-2.38.4\n"
          ]
        }
      ]
    },
    {
      "cell_type": "code",
      "metadata": {
        "id": "GBLUi1FrhYAG"
      },
      "source": [
        "%matplotlib inline\n",
        "\n",
        "import os\n",
        "from datetime import datetime, timedelta\n",
        "from datetime import datetime\n",
        "from getpass import getpass\n",
        "\n",
        "import numpy as np\n",
        "import pandas as pd\n",
        "import matplotlib.pyplot as plt\n",
        "#from sklearn.ensemble import RandomForestRegressor\n",
        "#from sklearn.linear_model import LinearRegression\n",
        "#from sklearn.metrics import mean_squared_error\n",
        "#from sklearn.metrics import r2_score\n",
        "\n",
        "from cognite.client import CogniteClient\n",
        "\n",
        "c = CogniteClient(api_key=\"NTgxY2MwMTItZjFmYS00N2U0LTgxNWEtZTcwZDNiMDU0OTFm\",\n",
        "                       project=\"publicdata\", client_name=\"Tamas Suli\")\n",
        "# NTgxY2MwMTItZjFmYS00N2U0LTgxNWEtZTcwZDNiMDU0OTFm"
      ],
      "execution_count": 2,
      "outputs": []
    },
    {
      "cell_type": "code",
      "metadata": {
        "id": "02-vEZ286BHO",
        "colab": {
          "base_uri": "https://localhost:8080/"
        },
        "outputId": "842c205b-639b-4c51-de08-18961920ee71"
      },
      "source": [
        "all_timeseries = c.time_series.list(limit=-1).to_pandas()\n",
        "val_timeseries = all_timeseries[all_timeseries['name'].str.contains('VAL_', regex=False)]\n",
        "# all_timeseries.to_csv('all_timeseries.csv', header = True, index = False)\n",
        "# val_timeseries.to_csv('val_timeseries.csv', header = True, index = False)\n",
        "val_timeseries.index.name = 'ind'\n",
        "val_timeseries.reset_index(inplace=True)\n",
        "del val_timeseries['ind']\n",
        "len(val_timeseries['id'])"
      ],
      "execution_count": null,
      "outputs": [
        {
          "output_type": "execute_result",
          "data": {
            "text/plain": [
              "363"
            ]
          },
          "metadata": {},
          "execution_count": 3
        }
      ]
    },
    {
      "cell_type": "code",
      "metadata": {
        "id": "e5cpIPaCTRK9"
      },
      "source": [
        "val_timeseries[290:310]"
      ],
      "execution_count": null,
      "outputs": []
    },
    {
      "cell_type": "code",
      "metadata": {
        "id": "7QsEpgTAITC9",
        "outputId": "ddba474c-bb50-46d8-d03a-5467c331a556",
        "colab": {
          "base_uri": "https://localhost:8080/",
          "height": 115
        }
      },
      "source": [
        "val_timeseries.loc[val_timeseries.name==\"VAL_23-PT-92539:X.Value\"]\n",
        "# VAL_23-FT-92537-01:X.Value - 7638223843994790 - id: 305\n",
        "# VAL_23-TT-92539:X.Value - 643849686863640 - id: 30\n",
        "# VAL_23-PT-92539:X.Value - 1890487216163163 - id: 75\n"
      ],
      "execution_count": null,
      "outputs": [
        {
          "output_type": "execute_result",
          "data": {
            "text/html": [
              "<div>\n",
              "<style scoped>\n",
              "    .dataframe tbody tr th:only-of-type {\n",
              "        vertical-align: middle;\n",
              "    }\n",
              "\n",
              "    .dataframe tbody tr th {\n",
              "        vertical-align: top;\n",
              "    }\n",
              "\n",
              "    .dataframe thead th {\n",
              "        text-align: right;\n",
              "    }\n",
              "</style>\n",
              "<table border=\"1\" class=\"dataframe\">\n",
              "  <thead>\n",
              "    <tr style=\"text-align: right;\">\n",
              "      <th></th>\n",
              "      <th>id</th>\n",
              "      <th>externalId</th>\n",
              "      <th>name</th>\n",
              "      <th>isString</th>\n",
              "      <th>metadata</th>\n",
              "      <th>assetId</th>\n",
              "      <th>isStep</th>\n",
              "      <th>description</th>\n",
              "      <th>securityCategories</th>\n",
              "      <th>createdTime</th>\n",
              "      <th>lastUpdatedTime</th>\n",
              "      <th>unit</th>\n",
              "    </tr>\n",
              "  </thead>\n",
              "  <tbody>\n",
              "    <tr>\n",
              "      <th>75</th>\n",
              "      <td>1890487216163163</td>\n",
              "      <td>pi:160703</td>\n",
              "      <td>VAL_23-PT-92539:X.Value</td>\n",
              "      <td>False</td>\n",
              "      <td>{'tag': 'VAL_23-PT-92539:X.Value', 'scan': '1'...</td>\n",
              "      <td>3147733389929639</td>\n",
              "      <td>False</td>\n",
              "      <td>PH 1stStgComp Discharge</td>\n",
              "      <td>[]</td>\n",
              "      <td>1593024714298</td>\n",
              "      <td>1593512860522</td>\n",
              "      <td>bar</td>\n",
              "    </tr>\n",
              "  </tbody>\n",
              "</table>\n",
              "</div>"
            ],
            "text/plain": [
              "                  id externalId  ... lastUpdatedTime  unit\n",
              "75  1890487216163163  pi:160703  ...   1593512860522   bar\n",
              "\n",
              "[1 rows x 12 columns]"
            ]
          },
          "metadata": {},
          "execution_count": 8
        }
      ]
    },
    {
      "cell_type": "code",
      "metadata": {
        "id": "JM3sJ486lz7m"
      },
      "source": [
        "i = 30\n",
        "\n",
        "d1_1 = c.datapoints.retrieve(id=int(val_timeseries['id'][i]), start=\"100d-ago\", end=\"0d-ago\").to_pandas()\n",
        "d1_1.index.name = 'time'\n",
        "d1_1.reset_index(inplace=True)\n",
        "id_title = 'm_' + str(val_timeseries['id'][i])\n",
        "time_title = 't_' + str(val_timeseries['id'][i])\n",
        "d1_1_dict = {time_title: d1_1['time'].tolist(), id_title: d1_1[d1_1.columns[1]].tolist()}\n",
        "out_file = 'd1_1_bin'\n",
        "np.savez(out_file, **d1_1_dict)\n",
        "\n"
      ],
      "execution_count": null,
      "outputs": []
    },
    {
      "cell_type": "code",
      "metadata": {
        "id": "PtBwdGXyRWDv"
      },
      "source": [
        "i = 30\n",
        "\n",
        "d1_2 = c.datapoints.retrieve(id=int(val_timeseries['id'][i]), start=\"200d-ago\", end=\"101d-ago\").to_pandas()\n",
        "d1_2.index.name = 'time'\n",
        "d1_2.reset_index(inplace=True)\n",
        "id_title = 'm_' + str(val_timeseries['id'][i])\n",
        "time_title = 't_' + str(val_timeseries['id'][i])\n",
        "d1_2_dict = {time_title: d1_2['time'].tolist(), id_title: d1_2[d1_2.columns[1]].tolist()}\n",
        "out_file = 'd1_2_bin'\n",
        "np.savez(out_file, **d1_2_dict)\n",
        "\n",
        "d1_3 = c.datapoints.retrieve(id=int(val_timeseries['id'][i]), start=\"300d-ago\", end=\"201d-ago\").to_pandas()\n",
        "d1_3.index.name = 'time'\n",
        "d1_3.reset_index(inplace=True)\n",
        "id_title = 'm_' + str(val_timeseries['id'][i])\n",
        "time_title = 't_' + str(val_timeseries['id'][i])\n",
        "d1_3_dict = {time_title: d1_3['time'].tolist(), id_title: d1_3[d1_3.columns[1]].tolist()}\n",
        "out_file = 'd1_3_bin'\n",
        "np.savez(out_file, **d1_3_dict)\n",
        "\n",
        "d2_1 = c.datapoints.retrieve(id=int(val_timeseries['id'][i]), start=\"400d-ago\", end=\"301d-ago\").to_pandas()\n",
        "d2_1.index.name = 'time'\n",
        "d2_1.reset_index(inplace=True)\n",
        "id_title = 'm_' + str(val_timeseries['id'][i])\n",
        "time_title = 't_' + str(val_timeseries['id'][i])\n",
        "d2_1_dict = {time_title: d2_1['time'].tolist(), id_title: d2_1[d2_1.columns[1]].tolist()}\n",
        "out_file = 'd2_1_bin'\n",
        "np.savez(out_file, **d2_1_dict)\n",
        "\n",
        "d2_2 = c.datapoints.retrieve(id=int(val_timeseries['id'][i]), start=\"500d-ago\", end=\"401d-ago\").to_pandas()\n",
        "d2_2.index.name = 'time'\n",
        "d2_2.reset_index(inplace=True)\n",
        "id_title = 'm_' + str(val_timeseries['id'][i])\n",
        "time_title = 't_' + str(val_timeseries['id'][i])\n",
        "d2_2_dict = {time_title: d2_2['time'].tolist(), id_title: d2_2[d2_2.columns[1]].tolist()}\n",
        "out_file = 'd2_2_bin'\n",
        "np.savez(out_file, **d2_2_dict)\n",
        "\n",
        "d2_3 = c.datapoints.retrieve(id=int(val_timeseries['id'][i]), start=\"600d-ago\", end=\"501d-ago\").to_pandas()\n",
        "d2_3.index.name = 'time'\n",
        "d2_3.reset_index(inplace=True)\n",
        "id_title = 'm_' + str(val_timeseries['id'][i])\n",
        "time_title = 't_' + str(val_timeseries['id'][i])\n",
        "d2_3_dict = {time_title: d2_3['time'].tolist(), id_title: d2_3[d2_3.columns[1]].tolist()}\n",
        "out_file = 'd2_3_bin'\n",
        "np.savez(out_file, **d2_3_dict)\n",
        "\n",
        "d3_1 = c.datapoints.retrieve(id=int(val_timeseries['id'][i]), start=\"700d-ago\", end=\"601d-ago\").to_pandas()\n",
        "d3_1.index.name = 'time'\n",
        "d3_1.reset_index(inplace=True)\n",
        "id_title = 'm_' + str(val_timeseries['id'][i])\n",
        "time_title = 't_' + str(val_timeseries['id'][i])\n",
        "d3_1_dict = {time_title: d3_1['time'].tolist(), id_title: d3_1[d3_1.columns[1]].tolist()}\n",
        "out_file = 'd3_1_bin'\n",
        "np.savez(out_file, **d3_1_dict)\n",
        "\n",
        "d3_2 = c.datapoints.retrieve(id=int(val_timeseries['id'][i]), start=\"800d-ago\", end=\"701d-ago\").to_pandas()\n",
        "d3_2.index.name = 'time'\n",
        "d3_2.reset_index(inplace=True)\n",
        "id_title = 'm_' + str(val_timeseries['id'][i])\n",
        "time_title = 't_' + str(val_timeseries['id'][i])\n",
        "d3_2_dict = {time_title: d3_2['time'].tolist(), id_title: d3_2[d3_2.columns[1]].tolist()}\n",
        "out_file = 'd3_2_bin'\n",
        "np.savez(out_file, **d3_2_dict)\n",
        "\n",
        "d3_3 = c.datapoints.retrieve(id=int(val_timeseries['id'][i]), start=\"900d-ago\", end=\"801d-ago\").to_pandas()\n",
        "d3_3.index.name = 'time'\n",
        "d3_3.reset_index(inplace=True)\n",
        "id_title = 'm_' + str(val_timeseries['id'][i])\n",
        "time_title = 't_' + str(val_timeseries['id'][i])\n",
        "d3_3_dict = {time_title: d3_3['time'].tolist(), id_title: d3_3[d3_3.columns[1]].tolist()}\n",
        "out_file = 'd3_3_bin'\n",
        "np.savez(out_file, **d3_3_dict)\n",
        "\n",
        "d4_1 = c.datapoints.retrieve(id=int(val_timeseries['id'][i]), start=\"1000d-ago\", end=\"901d-ago\").to_pandas()\n",
        "d4_1.index.name = 'time'\n",
        "d4_1.reset_index(inplace=True)\n",
        "id_title = 'm_' + str(val_timeseries['id'][i])\n",
        "time_title = 't_' + str(val_timeseries['id'][i])\n",
        "d4_1_dict = {time_title: d4_1['time'].tolist(), id_title: d4_1[d4_1.columns[1]].tolist()}\n",
        "out_file = 'd4_1_bin'\n",
        "np.savez(out_file, **d4_1_dict)\n",
        "\n",
        "d4_2 = c.datapoints.retrieve(id=int(val_timeseries['id'][i]), start=\"1100d-ago\", end=\"1001d-ago\").to_pandas()\n",
        "d4_2.index.name = 'time'\n",
        "d4_2.reset_index(inplace=True)\n",
        "id_title = 'm_' + str(val_timeseries['id'][i])\n",
        "time_title = 't_' + str(val_timeseries['id'][i])\n",
        "d4_2_dict = {time_title: d4_2['time'].tolist(), id_title: d4_2[d4_2.columns[1]].tolist()}\n",
        "out_file = 'd4_2_bin'\n",
        "np.savez(out_file, **d4_2_dict)\n",
        "\n",
        "d4_3 = c.datapoints.retrieve(id=int(val_timeseries['id'][i]), start=\"1200d-ago\", end=\"1101d-ago\").to_pandas()\n",
        "d4_3.index.name = 'time'\n",
        "d4_3.reset_index(inplace=True)\n",
        "id_title = 'm_' + str(val_timeseries['id'][i])\n",
        "time_title = 't_' + str(val_timeseries['id'][i])\n",
        "d4_3_dict = {time_title: d4_3['time'].tolist(), id_title: d4_3[d4_3.columns[1]].tolist()}\n",
        "out_file = 'd4_3_bin'\n",
        "np.savez(out_file, **d4_3_dict)\n",
        "\n",
        "d5_1 = c.datapoints.retrieve(id=int(val_timeseries['id'][i]), start=\"1300d-ago\", end=\"1201d-ago\").to_pandas()\n",
        "d5_1.index.name = 'time'\n",
        "d5_1.reset_index(inplace=True)\n",
        "id_title = 'm_' + str(val_timeseries['id'][i])\n",
        "time_title = 't_' + str(val_timeseries['id'][i])\n",
        "d5_1_dict = {time_title: d5_1['time'].tolist(), id_title: d5_1[d5_1.columns[1]].tolist()}\n",
        "out_file = 'd5_1_bin'\n",
        "np.savez(out_file, **d5_1_dict)\n",
        "\n",
        "d5_2 = c.datapoints.retrieve(id=int(val_timeseries['id'][i]), start=\"1400d-ago\", end=\"1301d-ago\").to_pandas()\n",
        "d5_2.index.name = 'time'\n",
        "d5_2.reset_index(inplace=True)\n",
        "id_title = 'm_' + str(val_timeseries['id'][i])\n",
        "time_title = 't_' + str(val_timeseries['id'][i])\n",
        "d5_2_dict = {time_title: d5_2['time'].tolist(), id_title: d5_2[d5_2.columns[1]].tolist()}\n",
        "out_file = 'd5_2_bin'\n",
        "np.savez(out_file, **d5_2_dict)\n",
        "\n",
        "d5_3 = c.datapoints.retrieve(id=int(val_timeseries['id'][i]), start=\"1500d-ago\", end=\"1401d-ago\").to_pandas()\n",
        "d5_3.index.name = 'time'\n",
        "d5_3.reset_index(inplace=True)\n",
        "id_title = 'm_' + str(val_timeseries['id'][i])\n",
        "time_title = 't_' + str(val_timeseries['id'][i])\n",
        "d5_3_dict = {time_title: d5_3['time'].tolist(), id_title: d5_3[d5_3.columns[1]].tolist()}\n",
        "out_file = 'd5_3_bin'\n",
        "np.savez(out_file, **d5_3_dict)\n",
        "\n",
        "d6_1 = c.datapoints.retrieve(id=int(val_timeseries['id'][i]), start=\"1600d-ago\", end=\"1501d-ago\").to_pandas()\n",
        "d6_1.index.name = 'time'\n",
        "d6_1.reset_index(inplace=True)\n",
        "id_title = 'm_' + str(val_timeseries['id'][i])\n",
        "time_title = 't_' + str(val_timeseries['id'][i])\n",
        "d6_1_dict = {time_title: d6_1['time'].tolist(), id_title: d6_1[d6_1.columns[1]].tolist()}\n",
        "out_file = 'd6_1_bin'\n",
        "np.savez(out_file, **d6_1_dict)\n",
        "\n",
        "d6_2 = c.datapoints.retrieve(id=int(val_timeseries['id'][i]), start=\"1700d-ago\", end=\"1601d-ago\").to_pandas()\n",
        "d6_2.index.name = 'time'\n",
        "d6_2.reset_index(inplace=True)\n",
        "id_title = 'm_' + str(val_timeseries['id'][i])\n",
        "time_title = 't_' + str(val_timeseries['id'][i])\n",
        "d6_2_dict = {time_title: d6_2['time'].tolist(), id_title: d6_2[d6_2.columns[1]].tolist()}\n",
        "out_file = 'd6_2_bin'\n",
        "np.savez(out_file, **d6_2_dict)\n",
        "\n",
        "d6_3 = c.datapoints.retrieve(id=int(val_timeseries['id'][i]), start=\"1800d-ago\", end=\"1701d-ago\").to_pandas()\n",
        "d6_3.index.name = 'time'\n",
        "d6_3.reset_index(inplace=True)\n",
        "id_title = 'm_' + str(val_timeseries['id'][i])\n",
        "time_title = 't_' + str(val_timeseries['id'][i])\n",
        "d6_3_dict = {time_title: d6_3['time'].tolist(), id_title: d6_3[d6_3.columns[1]].tolist()}\n",
        "out_file = 'd6_3_bin'\n",
        "np.savez(out_file, **d6_3_dict)\n",
        "\n",
        "d7_1 = c.datapoints.retrieve(id=int(val_timeseries['id'][i]), start=\"1900d-ago\", end=\"1801d-ago\").to_pandas()\n",
        "d7_1.index.name = 'time'\n",
        "d7_1.reset_index(inplace=True)\n",
        "id_title = 'm_' + str(val_timeseries['id'][i])\n",
        "time_title = 't_' + str(val_timeseries['id'][i])\n",
        "d7_1_dict = {time_title: d7_1['time'].tolist(), id_title: d7_1[d7_1.columns[1]].tolist()}\n",
        "out_file = 'd7_1_bin'\n",
        "np.savez(out_file, **d7_1_dict)\n",
        "\n",
        "d7_2 = c.datapoints.retrieve(id=int(val_timeseries['id'][i]), start=\"2000d-ago\", end=\"1901d-ago\").to_pandas()\n",
        "d7_2.index.name = 'time'\n",
        "d7_2.reset_index(inplace=True)\n",
        "id_title = 'm_' + str(val_timeseries['id'][i])\n",
        "time_title = 't_' + str(val_timeseries['id'][i])\n",
        "d7_2_dict = {time_title: d7_2['time'].tolist(), id_title: d7_2[d7_2.columns[1]].tolist()}\n",
        "out_file = 'd7_2_bin'\n",
        "np.savez(out_file, **d7_2_dict)\n",
        "\n",
        "d7_3 = c.datapoints.retrieve(id=int(val_timeseries['id'][i]), start=\"2100d-ago\", end=\"2001d-ago\").to_pandas()\n",
        "d7_3.index.name = 'time'\n",
        "d7_3.reset_index(inplace=True)\n",
        "id_title = 'm_' + str(val_timeseries['id'][i])\n",
        "time_title = 't_' + str(val_timeseries['id'][i])\n",
        "d7_3_dict = {time_title: d7_3['time'].tolist(), id_title: d7_3[d7_3.columns[1]].tolist()}\n",
        "out_file = 'd7_3_bin'\n",
        "np.savez(out_file, **d7_3_dict)\n",
        "\n",
        "d8_1 = c.datapoints.retrieve(id=int(val_timeseries['id'][i]), start=\"2200d-ago\", end=\"2101d-ago\").to_pandas()\n",
        "d8_1.index.name = 'time'\n",
        "d8_1.reset_index(inplace=True)\n",
        "id_title = 'm_' + str(val_timeseries['id'][i])\n",
        "time_title = 't_' + str(val_timeseries['id'][i])\n",
        "d8_1_dict = {time_title: d8_1['time'].tolist(), id_title: d8_1[d8_1.columns[1]].tolist()}\n",
        "out_file = 'd8_1_bin'\n",
        "np.savez(out_file, **d8_1_dict)\n",
        "\n",
        "d8_2 = c.datapoints.retrieve(id=int(val_timeseries['id'][i]), start=\"2300d-ago\", end=\"2201d-ago\").to_pandas()\n",
        "d8_2.index.name = 'time'\n",
        "d8_2.reset_index(inplace=True)\n",
        "id_title = 'm_' + str(val_timeseries['id'][i])\n",
        "time_title = 't_' + str(val_timeseries['id'][i])\n",
        "d8_2_dict = {time_title: d8_2['time'].tolist(), id_title: d8_2[d8_2.columns[1]].tolist()}\n",
        "out_file = 'd8_2_bin'\n",
        "np.savez(out_file, **d8_2_dict)\n",
        "\n",
        "d8_3 = c.datapoints.retrieve(id=int(val_timeseries['id'][i]), start=\"2400d-ago\", end=\"2301d-ago\").to_pandas()\n",
        "d8_3.index.name = 'time'\n",
        "d8_3.reset_index(inplace=True)\n",
        "id_title = 'm_' + str(val_timeseries['id'][i])\n",
        "time_title = 't_' + str(val_timeseries['id'][i])\n",
        "d8_3_dict = {time_title: d8_3['time'].tolist(), id_title: d8_3[d8_3.columns[1]].tolist()}\n",
        "out_file = 'd8_3_bin'\n",
        "np.savez(out_file, **d8_3_dict)\n",
        "\n",
        "d9_1 = c.datapoints.retrieve(id=int(val_timeseries['id'][i]), start=\"2500d-ago\", end=\"2401d-ago\").to_pandas()\n",
        "d9_1.index.name = 'time'\n",
        "d9_1.reset_index(inplace=True)\n",
        "id_title = 'm_' + str(val_timeseries['id'][i])\n",
        "time_title = 't_' + str(val_timeseries['id'][i])\n",
        "d9_1_dict = {time_title: d9_1['time'].tolist(), id_title: d9_1[d9_1.columns[1]].tolist()}\n",
        "out_file = 'd9_1_bin'\n",
        "np.savez(out_file, **d9_1_dict)\n",
        "\n",
        "d9_2 = c.datapoints.retrieve(id=int(val_timeseries['id'][i]), start=\"2600d-ago\", end=\"2501d-ago\").to_pandas()\n",
        "d9_2.index.name = 'time'\n",
        "d9_2.reset_index(inplace=True)\n",
        "id_title = 'm_' + str(val_timeseries['id'][i])\n",
        "time_title = 't_' + str(val_timeseries['id'][i])\n",
        "d9_2_dict = {time_title: d9_2['time'].tolist(), id_title: d9_2[d9_2.columns[1]].tolist()}\n",
        "out_file = 'd9_2_bin'\n",
        "np.savez(out_file, **d9_2_dict)\n",
        "\n",
        "d9_3 = c.datapoints.retrieve(id=int(val_timeseries['id'][i]), start=\"2700d-ago\", end=\"2601d-ago\").to_pandas()\n",
        "d9_3.index.name = 'time'\n",
        "d9_3.reset_index(inplace=True)\n",
        "id_title = 'm_' + str(val_timeseries['id'][i])\n",
        "time_title = 't_' + str(val_timeseries['id'][i])\n",
        "d9_3_dict = {time_title: d9_3['time'].tolist(), id_title: d9_3[d9_3.columns[1]].tolist()}\n",
        "out_file = 'd9_3_bin'\n",
        "np.savez(out_file, **d9_3_dict)\n",
        "\n",
        "d10_1 = c.datapoints.retrieve(id=int(val_timeseries['id'][i]), start=\"2900d-ago\", end=\"2701d-ago\").to_pandas()\n",
        "d10_1.index.name = 'time'\n",
        "d10_1.reset_index(inplace=True)\n",
        "id_title = 'm_' + str(val_timeseries['id'][i])\n",
        "time_title = 't_' + str(val_timeseries['id'][i])\n",
        "d10_1_dict = {time_title: d10_1['time'].tolist(), id_title: d10_1[d10_1.columns[1]].tolist()}\n",
        "out_file = 'd10_1_bin'\n",
        "np.savez(out_file, **d10_1_dict)\n",
        "\n",
        "d10_2 = c.datapoints.retrieve(id=int(val_timeseries['id'][i]), start=\"2900d-ago\", end=\"2701d-ago\").to_pandas()\n",
        "d10_2.index.name = 'time'\n",
        "d10_2.reset_index(inplace=True)\n",
        "id_title = 'm_' + str(val_timeseries['id'][i])\n",
        "time_title = 't_' + str(val_timeseries['id'][i])\n",
        "d10_2_dict = {time_title: d10_2['time'].tolist(), id_title: d10_2[d10_2.columns[1]].tolist()}\n",
        "out_file = 'd10_2_bin'\n",
        "np.savez(out_file, **d10_2_dict)\n",
        "\n",
        "d10_3 = c.datapoints.retrieve(id=int(val_timeseries['id'][i]), start=\"2900d-ago\", end=\"2701d-ago\").to_pandas()\n",
        "d10_3.index.name = 'time'\n",
        "d10_3.reset_index(inplace=True)\n",
        "id_title = 'm_' + str(val_timeseries['id'][i])\n",
        "time_title = 't_' + str(val_timeseries['id'][i])\n",
        "d10_3_dict = {time_title: d10_3['time'].tolist(), id_title: d10_3[d10_3.columns[1]].tolist()}\n",
        "out_file = 'd10_3_bin'\n",
        "np.savez(out_file, **d10_3_dict)"
      ],
      "execution_count": null,
      "outputs": []
    },
    {
      "cell_type": "code",
      "metadata": {
        "id": "FbHhaVm1xoMS"
      },
      "source": [
        "t = np.arange(0, 10, 0.1) # Generate np arrays\n",
        "x = np.sin(t)\n",
        "data_dict1 = {'time1': t, 'signal1': x} # Group them in a dictionary\n",
        "data_dict2 = {'time2': t, 'signal2': x} # Group them in a dictionary\n",
        "data_dict3 = {**data_dict1, **data_dict2}\n",
        "out_file = 'binary_conc2'\n",
        "np.savez(out_file, **data_dict3) # Save dictionary to '.npz'-file\n"
      ],
      "execution_count": null,
      "outputs": []
    },
    {
      "cell_type": "code",
      "source": [
        "new_data = np.load(out_file + '.npz') # Load '.npz'-file\n",
        "#plt.plot(new_data['time'], new_data['signal']) # Use loaded data\n",
        "new_dict = dict(new_data)\n",
        "new_dict"
      ],
      "metadata": {
        "id": "H2N3KcFEwoaX"
      },
      "execution_count": null,
      "outputs": []
    },
    {
      "cell_type": "code",
      "metadata": {
        "id": "KVWjTDoyhYAN"
      },
      "source": [
        "from cognite.client.data_classes import Asset"
      ],
      "execution_count": null,
      "outputs": []
    },
    {
      "cell_type": "code",
      "metadata": {
        "id": "_WHJfqxrjpNH"
      },
      "source": [
        "subtree_root_asset=\"pi:160627\"\n",
        "subtree = c.assets.retrieve(external_id=subtree_root_asset).subtree()\n",
        "related_events = subtree.events() "
      ],
      "execution_count": null,
      "outputs": []
    },
    {
      "cell_type": "code",
      "source": [
        "# VAL_23-FT-92537-01:X.Value - 7638223843994790 - id: 305\n",
        "# VAL_23-TT-92539:X.Value - 643849686863640 - id: 30\n",
        "# VAL_23-PT-92539:X.Value - 1890487216163163 - id: 75\n",
        "\n",
        "dps = c.datapoints.retrieve(id=[7638223843994790, 643849686863640, 1890487216163163],\n",
        "                        start=datetime(2019,7,15),\n",
        "                        end=datetime(2021,12,20),\n",
        "                        aggregates=[\"average\"],\n",
        "                        granularity=\"6s\").to_pandas()\n",
        "\n",
        "dps.index.name = 'time'\n",
        "dps.reset_index(inplace=True)"
      ],
      "metadata": {
        "id": "LGXyl_7SozeT"
      },
      "execution_count": 8,
      "outputs": []
    },
    {
      "cell_type": "code",
      "source": [
        "Y_dict_6s = {'time': dps['time'].tolist(), 'Y1': dps[dps.columns[1]].tolist(), 'Y2': dps[dps.columns[2]].tolist(), 'Y3': dps[dps.columns[3]].tolist() }\n",
        "out_file = 'Y_data_6s'\n",
        "np.savez(out_file, **Y_dict_6s)"
      ],
      "metadata": {
        "id": "LNiQbcwSpt3M"
      },
      "execution_count": 39,
      "outputs": []
    },
    {
      "cell_type": "code",
      "source": [
        "dpm = c.datapoints.retrieve(id=[7638223843994790, 643849686863640, 1890487216163163],\n",
        "                        start=datetime(2019,7,15),\n",
        "                        end=datetime(2021,12,20),\n",
        "                        aggregates=[\"average\"],\n",
        "                        granularity=\"1m\").to_pandas()\n",
        "\n",
        "dpm.index.name = 'time'\n",
        "dpm.reset_index(inplace=True)\n",
        "\n",
        "Y_dict_1m = {'time': dpm['time'].tolist(), 'Y1': dpm[dpm.columns[1]].tolist(), 'Y2': dpm[dpm.columns[2]].tolist(), 'Y3': dpm[dpm.columns[3]].tolist() }\n",
        "out_file = 'Y_dict_1m'\n",
        "np.savez(out_file, **Y_dict_1m)"
      ],
      "metadata": {
        "id": "AQy561tkAwny"
      },
      "execution_count": 41,
      "outputs": []
    }
  ]
}