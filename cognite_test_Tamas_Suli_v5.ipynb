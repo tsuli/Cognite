{
  "nbformat": 4,
  "nbformat_minor": 0,
  "metadata": {
    "kernelspec": {
      "display_name": "Python 3",
      "language": "python",
      "name": "python3"
    },
    "language_info": {
      "codemirror_mode": {
        "name": "ipython",
        "version": 3
      },
      "file_extension": ".py",
      "mimetype": "text/x-python",
      "name": "python",
      "nbconvert_exporter": "python",
      "pygments_lexer": "ipython3",
      "version": "3.8.3"
    },
    "colab": {
      "name": "cognite_test_Tamas_Suli_v2.ipynb",
      "provenance": [],
      "include_colab_link": true
    }
  },
  "cells": [
    {
      "cell_type": "markdown",
      "metadata": {
        "id": "view-in-github",
        "colab_type": "text"
      },
      "source": [
        "<a href=\"https://colab.research.google.com/github/tsuli/Cognite/blob/main/cognite_test_Tamas_Suli_v5.ipynb\" target=\"_parent\"><img src=\"https://colab.research.google.com/assets/colab-badge.svg\" alt=\"Open In Colab\"/></a>"
      ]
    },
    {
      "cell_type": "code",
      "metadata": {
        "id": "qou8D8FMhX_6",
        "colab": {
          "base_uri": "https://localhost:8080/"
        },
        "outputId": "094f1ba9-5246-4783-8ea9-851493b44553"
      },
      "source": [
        "#!pip install cognite-sdk\n",
        "!pip install --upgrade cognite-sdk"
      ],
      "execution_count": 1,
      "outputs": [
        {
          "output_type": "stream",
          "name": "stdout",
          "text": [
            "Collecting cognite-sdk\n",
            "  Downloading cognite_sdk-2.36.0-py3-none-any.whl (163 kB)\n",
            "\u001b[?25l\r\u001b[K     |██                              | 10 kB 14.9 MB/s eta 0:00:01\r\u001b[K     |████                            | 20 kB 18.9 MB/s eta 0:00:01\r\u001b[K     |██████                          | 30 kB 16.5 MB/s eta 0:00:01\r\u001b[K     |████████                        | 40 kB 17.2 MB/s eta 0:00:01\r\u001b[K     |██████████                      | 51 kB 19.1 MB/s eta 0:00:01\r\u001b[K     |████████████                    | 61 kB 21.4 MB/s eta 0:00:01\r\u001b[K     |██████████████                  | 71 kB 23.0 MB/s eta 0:00:01\r\u001b[K     |████████████████                | 81 kB 24.9 MB/s eta 0:00:01\r\u001b[K     |██████████████████              | 92 kB 24.9 MB/s eta 0:00:01\r\u001b[K     |████████████████████            | 102 kB 25.4 MB/s eta 0:00:01\r\u001b[K     |██████████████████████          | 112 kB 25.4 MB/s eta 0:00:01\r\u001b[K     |████████████████████████        | 122 kB 25.4 MB/s eta 0:00:01\r\u001b[K     |██████████████████████████      | 133 kB 25.4 MB/s eta 0:00:01\r\u001b[K     |████████████████████████████    | 143 kB 25.4 MB/s eta 0:00:01\r\u001b[K     |██████████████████████████████  | 153 kB 25.4 MB/s eta 0:00:01\r\u001b[K     |████████████████████████████████| 163 kB 25.4 MB/s \n",
            "\u001b[?25hRequirement already satisfied: requests-oauthlib==1.3.0 in /usr/local/lib/python3.7/dist-packages (from cognite-sdk) (1.3.0)\n",
            "Requirement already satisfied: pandas in /usr/local/lib/python3.7/dist-packages (from cognite-sdk) (1.1.5)\n",
            "Requirement already satisfied: requests<3.0.0,>=2.21.0 in /usr/local/lib/python3.7/dist-packages (from cognite-sdk) (2.23.0)\n",
            "Requirement already satisfied: oauthlib>=3.0.0 in /usr/local/lib/python3.7/dist-packages (from requests-oauthlib==1.3.0->cognite-sdk) (3.1.1)\n",
            "Requirement already satisfied: certifi>=2017.4.17 in /usr/local/lib/python3.7/dist-packages (from requests<3.0.0,>=2.21.0->cognite-sdk) (2021.10.8)\n",
            "Requirement already satisfied: chardet<4,>=3.0.2 in /usr/local/lib/python3.7/dist-packages (from requests<3.0.0,>=2.21.0->cognite-sdk) (3.0.4)\n",
            "Requirement already satisfied: urllib3!=1.25.0,!=1.25.1,<1.26,>=1.21.1 in /usr/local/lib/python3.7/dist-packages (from requests<3.0.0,>=2.21.0->cognite-sdk) (1.24.3)\n",
            "Requirement already satisfied: idna<3,>=2.5 in /usr/local/lib/python3.7/dist-packages (from requests<3.0.0,>=2.21.0->cognite-sdk) (2.10)\n",
            "Requirement already satisfied: numpy>=1.15.4 in /usr/local/lib/python3.7/dist-packages (from pandas->cognite-sdk) (1.19.5)\n",
            "Requirement already satisfied: python-dateutil>=2.7.3 in /usr/local/lib/python3.7/dist-packages (from pandas->cognite-sdk) (2.8.2)\n",
            "Requirement already satisfied: pytz>=2017.2 in /usr/local/lib/python3.7/dist-packages (from pandas->cognite-sdk) (2018.9)\n",
            "Requirement already satisfied: six>=1.5 in /usr/local/lib/python3.7/dist-packages (from python-dateutil>=2.7.3->pandas->cognite-sdk) (1.15.0)\n",
            "Installing collected packages: cognite-sdk\n",
            "Successfully installed cognite-sdk-2.36.0\n"
          ]
        }
      ]
    },
    {
      "cell_type": "code",
      "metadata": {
        "id": "MI_UJEHuhYAE"
      },
      "source": [
        "%matplotlib inline\n",
        "\n",
        "import os\n",
        "from datetime import datetime, timedelta\n",
        "from datetime import datetime\n",
        "from getpass import getpass\n",
        "\n",
        "import numpy as np\n",
        "import pandas as pd\n",
        "import matplotlib.pyplot as plt\n",
        "from sklearn.ensemble import RandomForestRegressor\n",
        "from sklearn.linear_model import LinearRegression\n",
        "from sklearn.metrics import mean_squared_error\n",
        "from sklearn.metrics import r2_score\n",
        "\n",
        "from cognite.client import CogniteClient"
      ],
      "execution_count": 2,
      "outputs": []
    },
    {
      "cell_type": "code",
      "metadata": {
        "id": "GBLUi1FrhYAG",
        "colab": {
          "base_uri": "https://localhost:8080/"
        },
        "outputId": "a629afcf-04d2-44e8-91dc-772d2e909f4e"
      },
      "source": [
        "c = CogniteClient(api_key=getpass(\"Open Industrial Data API-KEY: \"),\n",
        "                       project=\"publicdata\", client_name=\"Tamas Suli\")"
      ],
      "execution_count": 3,
      "outputs": [
        {
          "name": "stdout",
          "output_type": "stream",
          "text": [
            "Open Industrial Data API-KEY: ··········\n"
          ]
        }
      ]
    },
    {
      "cell_type": "code",
      "metadata": {
        "id": "4D8wg3h7hYAH",
        "colab": {
          "base_uri": "https://localhost:8080/",
          "height": 254
        },
        "outputId": "798d36b0-fc0a-4067-ad18-5dce9b8fe93f"
      },
      "source": [
        "all_timeseries = c.time_series.list(limit=-1).to_pandas()\n",
        "print(len(all_timeseries))\n",
        "all_timeseries[:2]"
      ],
      "execution_count": 4,
      "outputs": [
        {
          "output_type": "stream",
          "name": "stdout",
          "text": [
            "408\n"
          ]
        },
        {
          "output_type": "execute_result",
          "data": {
            "text/html": [
              "<div>\n",
              "<style scoped>\n",
              "    .dataframe tbody tr th:only-of-type {\n",
              "        vertical-align: middle;\n",
              "    }\n",
              "\n",
              "    .dataframe tbody tr th {\n",
              "        vertical-align: top;\n",
              "    }\n",
              "\n",
              "    .dataframe thead th {\n",
              "        text-align: right;\n",
              "    }\n",
              "</style>\n",
              "<table border=\"1\" class=\"dataframe\">\n",
              "  <thead>\n",
              "    <tr style=\"text-align: right;\">\n",
              "      <th></th>\n",
              "      <th>id</th>\n",
              "      <th>externalId</th>\n",
              "      <th>name</th>\n",
              "      <th>isString</th>\n",
              "      <th>metadata</th>\n",
              "      <th>assetId</th>\n",
              "      <th>isStep</th>\n",
              "      <th>description</th>\n",
              "      <th>securityCategories</th>\n",
              "      <th>createdTime</th>\n",
              "      <th>lastUpdatedTime</th>\n",
              "      <th>unit</th>\n",
              "    </tr>\n",
              "  </thead>\n",
              "  <tbody>\n",
              "    <tr>\n",
              "      <th>0</th>\n",
              "      <td>6190956317771</td>\n",
              "      <td>pi:160627</td>\n",
              "      <td>VAL_23-PDT-92501:X.Value</td>\n",
              "      <td>False</td>\n",
              "      <td>{'tag': 'VAL_23-PDT-92501:X.Value', 'scan': '1...</td>\n",
              "      <td>5552927149248373</td>\n",
              "      <td>False</td>\n",
              "      <td>PH 1stStgSuctCool Gas In ESDV</td>\n",
              "      <td>[]</td>\n",
              "      <td>1593024714298</td>\n",
              "      <td>1593512847807</td>\n",
              "      <td>NaN</td>\n",
              "    </tr>\n",
              "    <tr>\n",
              "      <th>1</th>\n",
              "      <td>12378169571900</td>\n",
              "      <td>pi:161021</td>\n",
              "      <td>VAL_23-YA-96118-02:Z.X.Value</td>\n",
              "      <td>False</td>\n",
              "      <td>{'tag': 'VAL_23-YA-96118-02:Z.X.Value', 'scan'...</td>\n",
              "      <td>3111454725058294</td>\n",
              "      <td>False</td>\n",
              "      <td>PH 1stStg Gear1 Journ BRG NDE</td>\n",
              "      <td>[]</td>\n",
              "      <td>1593024714298</td>\n",
              "      <td>1593512902300</td>\n",
              "      <td>NaN</td>\n",
              "    </tr>\n",
              "  </tbody>\n",
              "</table>\n",
              "</div>"
            ],
            "text/plain": [
              "               id externalId  ... lastUpdatedTime  unit\n",
              "0   6190956317771  pi:160627  ...   1593512847807   NaN\n",
              "1  12378169571900  pi:161021  ...   1593512902300   NaN\n",
              "\n",
              "[2 rows x 12 columns]"
            ]
          },
          "metadata": {},
          "execution_count": 4
        }
      ]
    },
    {
      "cell_type": "code",
      "metadata": {
        "id": "02-vEZ286BHO"
      },
      "source": [
        "val_timeseries = all_timeseries[all_timeseries['name'].str.contains('VAL_', regex=False)]"
      ],
      "execution_count": 5,
      "outputs": []
    },
    {
      "cell_type": "code",
      "metadata": {
        "id": "hbuIghH3u0tj"
      },
      "source": [
        "all_timeseries.to_csv('all_timeseries.csv', header = True, index = False)"
      ],
      "execution_count": null,
      "outputs": []
    },
    {
      "cell_type": "code",
      "metadata": {
        "id": "VlmARlnt6cKT"
      },
      "source": [
        "val_timeseries.to_csv('val_timeseries.csv', header = True, index = False)"
      ],
      "execution_count": null,
      "outputs": []
    },
    {
      "cell_type": "code",
      "metadata": {
        "id": "_TnUjf78iu0a",
        "colab": {
          "base_uri": "https://localhost:8080/"
        },
        "outputId": "b00bbc2c-dd9c-443d-d3a3-1682ef9444ab"
      },
      "source": [
        "val_timeseries['externalId'].head()"
      ],
      "execution_count": 43,
      "outputs": [
        {
          "output_type": "execute_result",
          "data": {
            "text/plain": [
              "0    pi:160627\n",
              "1    pi:161021\n",
              "2    pi:160252\n",
              "4    pi:160731\n",
              "5    pi:160031\n",
              "Name: externalId, dtype: object"
            ]
          },
          "metadata": {},
          "execution_count": 43
        }
      ]
    },
    {
      "cell_type": "code",
      "metadata": {
        "id": "I39Lsmdf9nOO",
        "colab": {
          "base_uri": "https://localhost:8080/"
        },
        "outputId": "1f6d4e35-f21b-4941-e467-72a41d12a096"
      },
      "source": [
        "val_timeseries['id'][2]"
      ],
      "execution_count": null,
      "outputs": [
        {
          "output_type": "execute_result",
          "data": {
            "text/plain": [
              "25870989735584"
            ]
          },
          "metadata": {},
          "execution_count": 30
        }
      ]
    },
    {
      "cell_type": "code",
      "metadata": {
        "id": "fdC2g2lY9tUk",
        "outputId": "4b7ea7a0-b988-4a3f-91db-5240508c8bbf",
        "colab": {
          "base_uri": "https://localhost:8080/",
          "height": 265
        }
      },
      "source": [
        "t = np.arange(0, 10, 0.1) # Generate np arrays\n",
        "x = np.sin(t)\n",
        "data_dict = {'time': t, 'signal': x} # Group them in a dictionary\n",
        "out_file = 'binary'\n",
        "np.savez(out_file, **data_dict) # Save dictionary to '.npz'-file\n",
        "new_data = np.load(out_file + '.npz') # Load '.npz'-file\n",
        "plt.plot(new_data['time'], new_data['signal']) # Use loaded data\n",
        "new_dict = dict(new_data)"
      ],
      "execution_count": 6,
      "outputs": [
        {
          "output_type": "display_data",
          "data": {
            "image/png": "[encoded data removed]",
            "text/plain": [
              "<Figure size 432x288 with 1 Axes>"
            ]
          },
          "metadata": {
            "needs_background": "light"
          }
        }
      ]
    },
    {
      "cell_type": "code",
      "metadata": {
        "id": "31HbQCpb9r8i"
      },
      "source": [
        "val_timeseries['externalId']"
      ],
      "execution_count": null,
      "outputs": []
    },
    {
      "cell_type": "code",
      "metadata": {
        "id": "jscCveeg9h1Y"
      },
      "source": [
        "data_dict = {'time': [], str(val_timeseries['externalId'][1]): []}"
      ],
      "execution_count": 45,
      "outputs": []
    },
    {
      "cell_type": "code",
      "metadata": {
        "id": "iX5IdVEshYAI",
        "colab": {
          "base_uri": "https://localhost:8080/",
          "height": 130
        },
        "outputId": "0f020984-33c7-482e-efe4-119bebdffb72"
      },
      "source": [
        "x = 1\n",
        "d + str(x) = c.datapoints.retrieve(id=384300500341710, start=\"900d-ago\", end=\"600d-ago\").to_pandas()\n",
        "d.index.name = 'time'\n",
        "d.reset_index(inplace=True)\n",
        "data_dict = {'time': d['time'], str(val_timeseries['externalId'][1]): d[d.columns[1]]}\n"
      ],
      "execution_count": 7,
      "outputs": [
        {
          "output_type": "error",
          "ename": "SyntaxError",
          "evalue": "ignored",
          "traceback": [
            "\u001b[0;36m  File \u001b[0;32m\"<ipython-input-7-e18d194ee2a6>\"\u001b[0;36m, line \u001b[0;32m2\u001b[0m\n\u001b[0;31m    d + str(x) = c.datapoints.retrieve(id=384300500341710, start=\"900d-ago\", end=\"600d-ago\").to_pandas()\u001b[0m\n\u001b[0m                                                                                                        ^\u001b[0m\n\u001b[0;31mSyntaxError\u001b[0m\u001b[0;31m:\u001b[0m can't assign to operator\n"
          ]
        }
      ]
    },
    {
      "cell_type": "code",
      "metadata": {
        "id": "zolQewq48Qz7",
        "outputId": "a4a409b2-c191-4572-c9aa-4df38cd8eee0",
        "colab": {
          "base_uri": "https://localhost:8080/",
          "height": 130
        }
      },
      "source": [
        "x = 2\n",
        "d + str(x) = c.datapoints.retrieve(id=384300500341710, start=\"901d-ago\", end=\"1200d-ago\").to_pandas()\n",
        "d.index.name = 'time'\n",
        "d.reset_index(inplace=True)\n",
        "data_dict = {'time': d['time'], str(val_timeseries['externalId'][1]): d[d.columns[1]]}"
      ],
      "execution_count": 8,
      "outputs": [
        {
          "output_type": "error",
          "ename": "SyntaxError",
          "evalue": "ignored",
          "traceback": [
            "\u001b[0;36m  File \u001b[0;32m\"<ipython-input-8-5495a156dc27>\"\u001b[0;36m, line \u001b[0;32m2\u001b[0m\n\u001b[0;31m    d + str(x) = c.datapoints.retrieve(id=384300500341710, start=\"901d-ago\", end=\"1200d-ago\").to_pandas()\u001b[0m\n\u001b[0m                                                                                                         ^\u001b[0m\n\u001b[0;31mSyntaxError\u001b[0m\u001b[0;31m:\u001b[0m can't assign to operator\n"
          ]
        }
      ]
    },
    {
      "cell_type": "code",
      "metadata": {
        "id": "sq32riy47AJ0"
      },
      "source": [
        "data_dict"
      ],
      "execution_count": null,
      "outputs": []
    },
    {
      "cell_type": "code",
      "metadata": {
        "id": "OW7UfbdMxYPO",
        "outputId": "8fda5f37-e4ad-4f6a-d155-33df9a240e16",
        "colab": {
          "base_uri": "https://localhost:8080/",
          "height": 35
        }
      },
      "source": [
        "x = 200\n",
        "var_name = '123' + '_' + str(x)\n",
        "d.columns = [ 'time', var_name]\n",
        "d.columns[1]"
      ],
      "execution_count": 54,
      "outputs": [
        {
          "output_type": "execute_result",
          "data": {
            "application/vnd.google.colaboratory.intrinsic+json": {
              "type": "string"
            },
            "text/plain": [
              "'123_200'"
            ]
          },
          "metadata": {},
          "execution_count": 54
        }
      ]
    },
    {
      "cell_type": "code",
      "metadata": {
        "id": "2KPurZrhyExM",
        "outputId": "afb3bbe1-050d-453b-b561-a50a8d71718c",
        "colab": {
          "base_uri": "https://localhost:8080/"
        }
      },
      "source": [
        "x = 200\n",
        "var_name = '123' + '_' + str(x)\n",
        "print (var_name)"
      ],
      "execution_count": 37,
      "outputs": [
        {
          "output_type": "stream",
          "name": "stdout",
          "text": [
            "123_200\n"
          ]
        }
      ]
    },
    {
      "cell_type": "code",
      "metadata": {
        "id": "UrjhrFFpwi-P",
        "outputId": "f4856d06-84bc-4b55-ec88-05dec42f779f",
        "colab": {
          "base_uri": "https://localhost:8080/"
        }
      },
      "source": [
        "d[str(var_name)]\n"
      ],
      "execution_count": 51,
      "outputs": [
        {
          "output_type": "execute_result",
          "data": {
            "text/plain": [
              "0        10000.0\n",
              "1        10000.0\n",
              "2        10000.0\n",
              "3        10000.0\n",
              "4        10000.0\n",
              "          ...   \n",
              "15906    10000.0\n",
              "15907    10000.0\n",
              "15908    10000.0\n",
              "15909    10000.0\n",
              "15910    10000.0\n",
              "Name: 123_200, Length: 15911, dtype: float64"
            ]
          },
          "metadata": {},
          "execution_count": 51
        }
      ]
    },
    {
      "cell_type": "code",
      "metadata": {
        "id": "Vvocyvuhy1vN",
        "outputId": "5433c920-724a-48f1-ee6e-abde7e528807",
        "colab": {
          "base_uri": "https://localhost:8080/"
        }
      },
      "source": [
        "15935/300"
      ],
      "execution_count": 13,
      "outputs": [
        {
          "output_type": "execute_result",
          "data": {
            "text/plain": [
              "53.11666666666667"
            ]
          },
          "metadata": {},
          "execution_count": 13
        }
      ]
    },
    {
      "cell_type": "code",
      "metadata": {
        "id": "_-6pyeC4hYAJ"
      },
      "source": [
        "d = c.datapoints.retrieve(id=944003029648139, start=\"500d-ago\", end=\"now\").to_pandas()"
      ],
      "execution_count": 7,
      "outputs": []
    },
    {
      "cell_type": "code",
      "metadata": {
        "id": "3Z70EfOtBeD7",
        "outputId": "34ff3f29-d944-4606-e760-2915cf1d4db2",
        "colab": {
          "base_uri": "https://localhost:8080/"
        }
      },
      "source": [
        "len(d)"
      ],
      "execution_count": 8,
      "outputs": [
        {
          "output_type": "execute_result",
          "data": {
            "text/plain": [
              "2616375"
            ]
          },
          "metadata": {},
          "execution_count": 8
        }
      ]
    },
    {
      "cell_type": "code",
      "metadata": {
        "id": "VUP7wSg8EFGr",
        "outputId": "a85f7a23-8bff-4681-9823-31b32c8b9d1f",
        "colab": {
          "base_uri": "https://localhost:8080/",
          "height": 1000
        }
      },
      "source": [
        "d[:50]"
      ],
      "execution_count": 11,
      "outputs": [
        {
          "output_type": "execute_result",
          "data": {
            "text/html": [
              "<div>\n",
              "<style scoped>\n",
              "    .dataframe tbody tr th:only-of-type {\n",
              "        vertical-align: middle;\n",
              "    }\n",
              "\n",
              "    .dataframe tbody tr th {\n",
              "        vertical-align: top;\n",
              "    }\n",
              "\n",
              "    .dataframe thead th {\n",
              "        text-align: right;\n",
              "    }\n",
              "</style>\n",
              "<table border=\"1\" class=\"dataframe\">\n",
              "  <thead>\n",
              "    <tr style=\"text-align: right;\">\n",
              "      <th></th>\n",
              "      <th>pi:160929</th>\n",
              "    </tr>\n",
              "  </thead>\n",
              "  <tbody>\n",
              "    <tr>\n",
              "      <th>2020-07-13 17:03:58.230</th>\n",
              "      <td>60.041199</td>\n",
              "    </tr>\n",
              "    <tr>\n",
              "      <th>2020-07-13 17:04:19.241</th>\n",
              "      <td>60.181583</td>\n",
              "    </tr>\n",
              "    <tr>\n",
              "      <th>2020-07-13 17:04:29.231</th>\n",
              "      <td>60.111389</td>\n",
              "    </tr>\n",
              "    <tr>\n",
              "      <th>2020-07-13 17:04:32.231</th>\n",
              "      <td>60.181583</td>\n",
              "    </tr>\n",
              "    <tr>\n",
              "      <th>2020-07-13 17:04:49.231</th>\n",
              "      <td>60.041199</td>\n",
              "    </tr>\n",
              "    <tr>\n",
              "      <th>2020-07-13 17:05:00.241</th>\n",
              "      <td>60.181583</td>\n",
              "    </tr>\n",
              "    <tr>\n",
              "      <th>2020-07-13 17:05:04.230</th>\n",
              "      <td>60.111389</td>\n",
              "    </tr>\n",
              "    <tr>\n",
              "      <th>2020-07-13 17:05:23.250</th>\n",
              "      <td>60.181583</td>\n",
              "    </tr>\n",
              "    <tr>\n",
              "      <th>2020-07-13 17:06:00.242</th>\n",
              "      <td>60.111389</td>\n",
              "    </tr>\n",
              "    <tr>\n",
              "      <th>2020-07-13 17:06:19.242</th>\n",
              "      <td>60.181583</td>\n",
              "    </tr>\n",
              "    <tr>\n",
              "      <th>2020-07-13 17:06:30.243</th>\n",
              "      <td>60.111389</td>\n",
              "    </tr>\n",
              "    <tr>\n",
              "      <th>2020-07-13 17:06:40.242</th>\n",
              "      <td>60.181583</td>\n",
              "    </tr>\n",
              "    <tr>\n",
              "      <th>2020-07-13 17:06:51.243</th>\n",
              "      <td>60.111389</td>\n",
              "    </tr>\n",
              "    <tr>\n",
              "      <th>2020-07-13 17:07:01.242</th>\n",
              "      <td>60.181583</td>\n",
              "    </tr>\n",
              "    <tr>\n",
              "      <th>2020-07-13 17:07:21.242</th>\n",
              "      <td>60.111389</td>\n",
              "    </tr>\n",
              "    <tr>\n",
              "      <th>2020-07-13 17:07:40.249</th>\n",
              "      <td>60.181583</td>\n",
              "    </tr>\n",
              "    <tr>\n",
              "      <th>2020-07-13 17:07:49.251</th>\n",
              "      <td>60.111389</td>\n",
              "    </tr>\n",
              "    <tr>\n",
              "      <th>2020-07-13 17:08:01.259</th>\n",
              "      <td>60.041199</td>\n",
              "    </tr>\n",
              "    <tr>\n",
              "      <th>2020-07-13 17:08:12.260</th>\n",
              "      <td>60.111389</td>\n",
              "    </tr>\n",
              "    <tr>\n",
              "      <th>2020-07-13 17:08:22.247</th>\n",
              "      <td>60.181583</td>\n",
              "    </tr>\n",
              "    <tr>\n",
              "      <th>2020-07-13 17:08:51.253</th>\n",
              "      <td>60.111389</td>\n",
              "    </tr>\n",
              "    <tr>\n",
              "      <th>2020-07-13 17:09:02.259</th>\n",
              "      <td>60.181583</td>\n",
              "    </tr>\n",
              "    <tr>\n",
              "      <th>2020-07-13 17:09:43.276</th>\n",
              "      <td>60.111389</td>\n",
              "    </tr>\n",
              "    <tr>\n",
              "      <th>2020-07-13 17:10:44.289</th>\n",
              "      <td>60.181583</td>\n",
              "    </tr>\n",
              "    <tr>\n",
              "      <th>2020-07-13 17:10:54.273</th>\n",
              "      <td>60.111389</td>\n",
              "    </tr>\n",
              "    <tr>\n",
              "      <th>2020-07-13 17:11:01.259</th>\n",
              "      <td>60.181583</td>\n",
              "    </tr>\n",
              "    <tr>\n",
              "      <th>2020-07-13 17:11:11.290</th>\n",
              "      <td>60.041199</td>\n",
              "    </tr>\n",
              "    <tr>\n",
              "      <th>2020-07-13 17:11:23.261</th>\n",
              "      <td>60.111389</td>\n",
              "    </tr>\n",
              "    <tr>\n",
              "      <th>2020-07-13 17:11:41.269</th>\n",
              "      <td>60.041199</td>\n",
              "    </tr>\n",
              "    <tr>\n",
              "      <th>2020-07-13 17:12:33.274</th>\n",
              "      <td>60.111389</td>\n",
              "    </tr>\n",
              "    <tr>\n",
              "      <th>2020-07-13 17:12:44.274</th>\n",
              "      <td>60.041199</td>\n",
              "    </tr>\n",
              "    <tr>\n",
              "      <th>2020-07-13 17:12:55.290</th>\n",
              "      <td>60.181583</td>\n",
              "    </tr>\n",
              "    <tr>\n",
              "      <th>2020-07-13 17:13:04.282</th>\n",
              "      <td>60.041199</td>\n",
              "    </tr>\n",
              "    <tr>\n",
              "      <th>2020-07-13 17:13:14.270</th>\n",
              "      <td>60.111389</td>\n",
              "    </tr>\n",
              "    <tr>\n",
              "      <th>2020-07-13 17:13:44.275</th>\n",
              "      <td>60.041199</td>\n",
              "    </tr>\n",
              "    <tr>\n",
              "      <th>2020-07-13 17:13:56.276</th>\n",
              "      <td>60.111389</td>\n",
              "    </tr>\n",
              "    <tr>\n",
              "      <th>2020-07-13 17:14:06.327</th>\n",
              "      <td>60.181583</td>\n",
              "    </tr>\n",
              "    <tr>\n",
              "      <th>2020-07-13 17:14:14.323</th>\n",
              "      <td>60.111389</td>\n",
              "    </tr>\n",
              "    <tr>\n",
              "      <th>2020-07-13 17:14:36.292</th>\n",
              "      <td>60.041199</td>\n",
              "    </tr>\n",
              "    <tr>\n",
              "      <th>2020-07-13 17:14:45.282</th>\n",
              "      <td>60.111389</td>\n",
              "    </tr>\n",
              "    <tr>\n",
              "      <th>2020-07-13 17:15:16.291</th>\n",
              "      <td>60.181583</td>\n",
              "    </tr>\n",
              "    <tr>\n",
              "      <th>2020-07-13 17:15:26.291</th>\n",
              "      <td>60.111389</td>\n",
              "    </tr>\n",
              "    <tr>\n",
              "      <th>2020-07-13 17:15:47.284</th>\n",
              "      <td>60.041199</td>\n",
              "    </tr>\n",
              "    <tr>\n",
              "      <th>2020-07-13 17:16:07.286</th>\n",
              "      <td>60.181583</td>\n",
              "    </tr>\n",
              "    <tr>\n",
              "      <th>2020-07-13 17:16:26.293</th>\n",
              "      <td>60.041199</td>\n",
              "    </tr>\n",
              "    <tr>\n",
              "      <th>2020-07-13 17:16:37.333</th>\n",
              "      <td>60.111389</td>\n",
              "    </tr>\n",
              "    <tr>\n",
              "      <th>2020-07-13 17:17:18.293</th>\n",
              "      <td>60.041199</td>\n",
              "    </tr>\n",
              "    <tr>\n",
              "      <th>2020-07-13 17:17:23.291</th>\n",
              "      <td>60.111389</td>\n",
              "    </tr>\n",
              "    <tr>\n",
              "      <th>2020-07-13 17:17:38.323</th>\n",
              "      <td>60.181583</td>\n",
              "    </tr>\n",
              "    <tr>\n",
              "      <th>2020-07-13 17:17:48.293</th>\n",
              "      <td>60.111389</td>\n",
              "    </tr>\n",
              "  </tbody>\n",
              "</table>\n",
              "</div>"
            ],
            "text/plain": [
              "                         pi:160929\n",
              "2020-07-13 17:03:58.230  60.041199\n",
              "2020-07-13 17:04:19.241  60.181583\n",
              "2020-07-13 17:04:29.231  60.111389\n",
              "2020-07-13 17:04:32.231  60.181583\n",
              "2020-07-13 17:04:49.231  60.041199\n",
              "2020-07-13 17:05:00.241  60.181583\n",
              "2020-07-13 17:05:04.230  60.111389\n",
              "2020-07-13 17:05:23.250  60.181583\n",
              "2020-07-13 17:06:00.242  60.111389\n",
              "2020-07-13 17:06:19.242  60.181583\n",
              "2020-07-13 17:06:30.243  60.111389\n",
              "2020-07-13 17:06:40.242  60.181583\n",
              "2020-07-13 17:06:51.243  60.111389\n",
              "2020-07-13 17:07:01.242  60.181583\n",
              "2020-07-13 17:07:21.242  60.111389\n",
              "2020-07-13 17:07:40.249  60.181583\n",
              "2020-07-13 17:07:49.251  60.111389\n",
              "2020-07-13 17:08:01.259  60.041199\n",
              "2020-07-13 17:08:12.260  60.111389\n",
              "2020-07-13 17:08:22.247  60.181583\n",
              "2020-07-13 17:08:51.253  60.111389\n",
              "2020-07-13 17:09:02.259  60.181583\n",
              "2020-07-13 17:09:43.276  60.111389\n",
              "2020-07-13 17:10:44.289  60.181583\n",
              "2020-07-13 17:10:54.273  60.111389\n",
              "2020-07-13 17:11:01.259  60.181583\n",
              "2020-07-13 17:11:11.290  60.041199\n",
              "2020-07-13 17:11:23.261  60.111389\n",
              "2020-07-13 17:11:41.269  60.041199\n",
              "2020-07-13 17:12:33.274  60.111389\n",
              "2020-07-13 17:12:44.274  60.041199\n",
              "2020-07-13 17:12:55.290  60.181583\n",
              "2020-07-13 17:13:04.282  60.041199\n",
              "2020-07-13 17:13:14.270  60.111389\n",
              "2020-07-13 17:13:44.275  60.041199\n",
              "2020-07-13 17:13:56.276  60.111389\n",
              "2020-07-13 17:14:06.327  60.181583\n",
              "2020-07-13 17:14:14.323  60.111389\n",
              "2020-07-13 17:14:36.292  60.041199\n",
              "2020-07-13 17:14:45.282  60.111389\n",
              "2020-07-13 17:15:16.291  60.181583\n",
              "2020-07-13 17:15:26.291  60.111389\n",
              "2020-07-13 17:15:47.284  60.041199\n",
              "2020-07-13 17:16:07.286  60.181583\n",
              "2020-07-13 17:16:26.293  60.041199\n",
              "2020-07-13 17:16:37.333  60.111389\n",
              "2020-07-13 17:17:18.293  60.041199\n",
              "2020-07-13 17:17:23.291  60.111389\n",
              "2020-07-13 17:17:38.323  60.181583\n",
              "2020-07-13 17:17:48.293  60.111389"
            ]
          },
          "metadata": {},
          "execution_count": 11
        }
      ]
    },
    {
      "cell_type": "code",
      "metadata": {
        "id": "lEChiGQMhYAL"
      },
      "source": [
        "my_time_series = c.time_series.retrieve(id=944003029648139)\n"
      ],
      "execution_count": 4,
      "outputs": []
    },
    {
      "cell_type": "code",
      "metadata": {
        "id": "zW6ghpL2IZ9M"
      },
      "source": [
        "my_time_series.plot(start=\"2500d-ago\", end=\"now\")"
      ],
      "execution_count": null,
      "outputs": []
    },
    {
      "cell_type": "code",
      "metadata": {
        "id": "O1ibnIBmzTXO",
        "outputId": "81dcf682-d74b-43f7-b214-eab70c6810b6",
        "colab": {
          "base_uri": "https://localhost:8080/",
          "height": 1000
        }
      },
      "source": [
        "my_time_series"
      ],
      "execution_count": 6,
      "outputs": [
        {
          "output_type": "execute_result",
          "data": {
            "text/html": [
              "<div>\n",
              "<style scoped>\n",
              "    .dataframe tbody tr th:only-of-type {\n",
              "        vertical-align: middle;\n",
              "    }\n",
              "\n",
              "    .dataframe tbody tr th {\n",
              "        vertical-align: top;\n",
              "    }\n",
              "\n",
              "    .dataframe thead th {\n",
              "        text-align: right;\n",
              "    }\n",
              "</style>\n",
              "<table border=\"1\" class=\"dataframe\">\n",
              "  <thead>\n",
              "    <tr style=\"text-align: right;\">\n",
              "      <th></th>\n",
              "      <th>value</th>\n",
              "    </tr>\n",
              "  </thead>\n",
              "  <tbody>\n",
              "    <tr>\n",
              "      <th>id</th>\n",
              "      <td>944003029648139</td>\n",
              "    </tr>\n",
              "    <tr>\n",
              "      <th>external_id</th>\n",
              "      <td>pi:160929</td>\n",
              "    </tr>\n",
              "    <tr>\n",
              "      <th>name</th>\n",
              "      <td>VAL_23-TT-96147-02:X.Value</td>\n",
              "    </tr>\n",
              "    <tr>\n",
              "      <th>is_string</th>\n",
              "      <td>False</td>\n",
              "    </tr>\n",
              "    <tr>\n",
              "      <th>asset_id</th>\n",
              "      <td>323277268913879</td>\n",
              "    </tr>\n",
              "    <tr>\n",
              "      <th>is_step</th>\n",
              "      <td>False</td>\n",
              "    </tr>\n",
              "    <tr>\n",
              "      <th>description</th>\n",
              "      <td>PH 1st Stg Comp Sealgas Heater</td>\n",
              "    </tr>\n",
              "    <tr>\n",
              "      <th>security_categories</th>\n",
              "      <td>[]</td>\n",
              "    </tr>\n",
              "    <tr>\n",
              "      <th>created_time</th>\n",
              "      <td>1593024714298</td>\n",
              "    </tr>\n",
              "    <tr>\n",
              "      <th>last_updated_time</th>\n",
              "      <td>1593512894250</td>\n",
              "    </tr>\n",
              "    <tr>\n",
              "      <th>tag</th>\n",
              "      <td>VAL_23-TT-96147-02:X.Value</td>\n",
              "    </tr>\n",
              "    <tr>\n",
              "      <th>scan</th>\n",
              "      <td>1</td>\n",
              "    </tr>\n",
              "    <tr>\n",
              "      <th>span</th>\n",
              "      <td>100</td>\n",
              "    </tr>\n",
              "    <tr>\n",
              "      <th>step</th>\n",
              "      <td>0</td>\n",
              "    </tr>\n",
              "    <tr>\n",
              "      <th>zero</th>\n",
              "      <td>0</td>\n",
              "    </tr>\n",
              "    <tr>\n",
              "      <th>recno</th>\n",
              "      <td>145429</td>\n",
              "    </tr>\n",
              "    <tr>\n",
              "      <th>excdev</th>\n",
              "      <td>0</td>\n",
              "    </tr>\n",
              "    <tr>\n",
              "      <th>excmax</th>\n",
              "      <td>600</td>\n",
              "    </tr>\n",
              "    <tr>\n",
              "      <th>excmin</th>\n",
              "      <td>0</td>\n",
              "    </tr>\n",
              "    <tr>\n",
              "      <th>exdesc</th>\n",
              "      <td></td>\n",
              "    </tr>\n",
              "    <tr>\n",
              "      <th>future</th>\n",
              "      <td>0</td>\n",
              "    </tr>\n",
              "    <tr>\n",
              "      <th>compdev</th>\n",
              "      <td>0</td>\n",
              "    </tr>\n",
              "    <tr>\n",
              "      <th>compmax</th>\n",
              "      <td>28800</td>\n",
              "    </tr>\n",
              "    <tr>\n",
              "      <th>compmin</th>\n",
              "      <td>0</td>\n",
              "    </tr>\n",
              "    <tr>\n",
              "      <th>convers</th>\n",
              "      <td>1</td>\n",
              "    </tr>\n",
              "    <tr>\n",
              "      <th>pointid</th>\n",
              "      <td>160929</td>\n",
              "    </tr>\n",
              "    <tr>\n",
              "      <th>srcptid</th>\n",
              "      <td>0</td>\n",
              "    </tr>\n",
              "    <tr>\n",
              "      <th>engunits</th>\n",
              "      <td></td>\n",
              "    </tr>\n",
              "    <tr>\n",
              "      <th>shutdown</th>\n",
              "      <td>0</td>\n",
              "    </tr>\n",
              "    <tr>\n",
              "      <th>userint1</th>\n",
              "      <td>0</td>\n",
              "    </tr>\n",
              "    <tr>\n",
              "      <th>userint2</th>\n",
              "      <td>0</td>\n",
              "    </tr>\n",
              "    <tr>\n",
              "      <th>archiving</th>\n",
              "      <td>1</td>\n",
              "    </tr>\n",
              "    <tr>\n",
              "      <th>location1</th>\n",
              "      <td>1</td>\n",
              "    </tr>\n",
              "    <tr>\n",
              "      <th>location2</th>\n",
              "      <td>0</td>\n",
              "    </tr>\n",
              "    <tr>\n",
              "      <th>location3</th>\n",
              "      <td>1</td>\n",
              "    </tr>\n",
              "    <tr>\n",
              "      <th>location4</th>\n",
              "      <td>1</td>\n",
              "    </tr>\n",
              "    <tr>\n",
              "      <th>location5</th>\n",
              "      <td>0</td>\n",
              "    </tr>\n",
              "    <tr>\n",
              "      <th>pointtype</th>\n",
              "      <td>Float32</td>\n",
              "    </tr>\n",
              "    <tr>\n",
              "      <th>ptclassid</th>\n",
              "      <td>2</td>\n",
              "    </tr>\n",
              "    <tr>\n",
              "      <th>sourcetag</th>\n",
              "      <td></td>\n",
              "    </tr>\n",
              "    <tr>\n",
              "      <th>totalcode</th>\n",
              "      <td>0</td>\n",
              "    </tr>\n",
              "    <tr>\n",
              "      <th>userreal1</th>\n",
              "      <td>0</td>\n",
              "    </tr>\n",
              "    <tr>\n",
              "      <th>userreal2</th>\n",
              "      <td>0</td>\n",
              "    </tr>\n",
              "    <tr>\n",
              "      <th>descriptor</th>\n",
              "      <td>PH 1st Stg Comp Sealgas Heater</td>\n",
              "    </tr>\n",
              "    <tr>\n",
              "      <th>digitalset</th>\n",
              "      <td></td>\n",
              "    </tr>\n",
              "    <tr>\n",
              "      <th>filtercode</th>\n",
              "      <td>0</td>\n",
              "    </tr>\n",
              "    <tr>\n",
              "      <th>ptclassrev</th>\n",
              "      <td>1</td>\n",
              "    </tr>\n",
              "    <tr>\n",
              "      <th>squareroot</th>\n",
              "      <td>0</td>\n",
              "    </tr>\n",
              "    <tr>\n",
              "      <th>compressing</th>\n",
              "      <td>1</td>\n",
              "    </tr>\n",
              "    <tr>\n",
              "      <th>pointsource</th>\n",
              "      <td>VLH_PCN1</td>\n",
              "    </tr>\n",
              "    <tr>\n",
              "      <th>ptclassname</th>\n",
              "      <td>classic</td>\n",
              "    </tr>\n",
              "    <tr>\n",
              "      <th>typicalvalue</th>\n",
              "      <td>50</td>\n",
              "    </tr>\n",
              "    <tr>\n",
              "      <th>displaydigits</th>\n",
              "      <td>-5</td>\n",
              "    </tr>\n",
              "    <tr>\n",
              "      <th>excdevpercent</th>\n",
              "      <td>0</td>\n",
              "    </tr>\n",
              "    <tr>\n",
              "      <th>instrumenttag</th>\n",
              "      <td>23-TT-96147-02:X.Value</td>\n",
              "    </tr>\n",
              "    <tr>\n",
              "      <th>compdevpercent</th>\n",
              "      <td>0</td>\n",
              "    </tr>\n",
              "    <tr>\n",
              "      <th>_replicatedTime</th>\n",
              "      <td>1593024714000</td>\n",
              "    </tr>\n",
              "    <tr>\n",
              "      <th>_replicatedSource</th>\n",
              "      <td>akerbp</td>\n",
              "    </tr>\n",
              "    <tr>\n",
              "      <th>_replicatedInternalId</th>\n",
              "      <td>1059499318547699</td>\n",
              "    </tr>\n",
              "  </tbody>\n",
              "</table>\n",
              "</div>"
            ],
            "text/plain": [
              "<cognite.client.data_classes.time_series.TimeSeries at 0x7fc1715c7f10>"
            ]
          },
          "metadata": {},
          "execution_count": 6
        }
      ]
    },
    {
      "cell_type": "code",
      "metadata": {
        "id": "KVWjTDoyhYAN"
      },
      "source": [
        "from cognite.client.data_classes import Asset"
      ],
      "execution_count": null,
      "outputs": []
    },
    {
      "cell_type": "code",
      "metadata": {
        "id": "_WHJfqxrjpNH",
        "colab": {
          "base_uri": "https://localhost:8080/",
          "height": 195
        },
        "outputId": "c24ca69a-6b8b-4735-dee4-3c38d5d2b667"
      },
      "source": [
        "subtree_root_asset=\"pi:160627\"\n",
        "subtree = c.assets.retrieve(external_id=subtree_root_asset).subtree()\n",
        "related_events = subtree.events() "
      ],
      "execution_count": null,
      "outputs": [
        {
          "output_type": "error",
          "ename": "AttributeError",
          "evalue": "ignored",
          "traceback": [
            "\u001b[0;31m---------------------------------------------------------------------------\u001b[0m",
            "\u001b[0;31mAttributeError\u001b[0m                            Traceback (most recent call last)",
            "\u001b[0;32m<ipython-input-19-6c9c1d46c6b7>\u001b[0m in \u001b[0;36m<module>\u001b[0;34m()\u001b[0m\n\u001b[1;32m      1\u001b[0m \u001b[0msubtree_root_asset\u001b[0m\u001b[0;34m=\u001b[0m\u001b[0;34m\"pi:160627\"\u001b[0m\u001b[0;34m\u001b[0m\u001b[0;34m\u001b[0m\u001b[0m\n\u001b[0;32m----> 2\u001b[0;31m \u001b[0msubtree\u001b[0m \u001b[0;34m=\u001b[0m \u001b[0mc\u001b[0m\u001b[0;34m.\u001b[0m\u001b[0massets\u001b[0m\u001b[0;34m.\u001b[0m\u001b[0mretrieve\u001b[0m\u001b[0;34m(\u001b[0m\u001b[0mexternal_id\u001b[0m\u001b[0;34m=\u001b[0m\u001b[0msubtree_root_asset\u001b[0m\u001b[0;34m)\u001b[0m\u001b[0;34m.\u001b[0m\u001b[0msubtree\u001b[0m\u001b[0;34m(\u001b[0m\u001b[0;34m)\u001b[0m\u001b[0;34m\u001b[0m\u001b[0;34m\u001b[0m\u001b[0m\n\u001b[0m\u001b[1;32m      3\u001b[0m \u001b[0mrelated_events\u001b[0m \u001b[0;34m=\u001b[0m \u001b[0msubtree\u001b[0m\u001b[0;34m.\u001b[0m\u001b[0mevents\u001b[0m\u001b[0;34m(\u001b[0m\u001b[0;34m)\u001b[0m\u001b[0;34m\u001b[0m\u001b[0;34m\u001b[0m\u001b[0m\n",
            "\u001b[0;31mAttributeError\u001b[0m: 'NoneType' object has no attribute 'subtree'"
          ]
        }
      ]
    }
  ]
}