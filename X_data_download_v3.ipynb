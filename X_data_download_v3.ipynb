{
  "nbformat": 4,
  "nbformat_minor": 0,
  "metadata": {
    "colab": {
      "name": "Untitled11.ipynb",
      "provenance": [],
      "collapsed_sections": [],
      "authorship_tag": "ABX9TyO4CfD8DBhyPSfHBPcVDYCN",
      "include_colab_link": true
    },
    "kernelspec": {
      "name": "python3",
      "display_name": "Python 3"
    },
    "language_info": {
      "name": "python"
    }
  },
  "cells": [
    {
      "cell_type": "markdown",
      "metadata": {
        "id": "view-in-github",
        "colab_type": "text"
      },
      "source": [
        "<a href=\"https://colab.research.google.com/github/tsuli/Cognite/blob/main/X_data_download_v3.ipynb\" target=\"_parent\"><img src=\"https://colab.research.google.com/assets/colab-badge.svg\" alt=\"Open In Colab\"/></a>"
      ]
    },
    {
      "cell_type": "code",
      "execution_count": 1,
      "metadata": {
        "colab": {
          "base_uri": "https://localhost:8080/"
        },
        "id": "kp7aTNcO1TRu",
        "outputId": "91967219-6ad8-4b89-8d35-a4856cf81378"
      },
      "outputs": [
        {
          "output_type": "stream",
          "name": "stdout",
          "text": [
            "Collecting cognite-sdk\n",
            "  Downloading cognite_sdk-2.39.1-py3-none-any.whl (187 kB)\n",
            "\u001b[?25l\r\u001b[K     |█▊                              | 10 kB 18.9 MB/s eta 0:00:01\r\u001b[K     |███▌                            | 20 kB 14.8 MB/s eta 0:00:01\r\u001b[K     |█████▎                          | 30 kB 9.8 MB/s eta 0:00:01\r\u001b[K     |███████                         | 40 kB 6.7 MB/s eta 0:00:01\r\u001b[K     |████████▊                       | 51 kB 7.1 MB/s eta 0:00:01\r\u001b[K     |██████████▌                     | 61 kB 7.5 MB/s eta 0:00:01\r\u001b[K     |████████████▎                   | 71 kB 6.5 MB/s eta 0:00:01\r\u001b[K     |██████████████                  | 81 kB 7.2 MB/s eta 0:00:01\r\u001b[K     |███████████████▊                | 92 kB 6.9 MB/s eta 0:00:01\r\u001b[K     |█████████████████▌              | 102 kB 7.1 MB/s eta 0:00:01\r\u001b[K     |███████████████████▏            | 112 kB 7.1 MB/s eta 0:00:01\r\u001b[K     |█████████████████████           | 122 kB 7.1 MB/s eta 0:00:01\r\u001b[K     |██████████████████████▊         | 133 kB 7.1 MB/s eta 0:00:01\r\u001b[K     |████████████████████████▌       | 143 kB 7.1 MB/s eta 0:00:01\r\u001b[K     |██████████████████████████▏     | 153 kB 7.1 MB/s eta 0:00:01\r\u001b[K     |████████████████████████████    | 163 kB 7.1 MB/s eta 0:00:01\r\u001b[K     |█████████████████████████████▊  | 174 kB 7.1 MB/s eta 0:00:01\r\u001b[K     |███████████████████████████████▌| 184 kB 7.1 MB/s eta 0:00:01\r\u001b[K     |████████████████████████████████| 187 kB 7.1 MB/s \n",
            "\u001b[?25hRequirement already satisfied: shapely==1.* in /usr/local/lib/python3.7/dist-packages (from cognite-sdk) (1.8.0)\n",
            "Collecting geopandas==0.10.*\n",
            "  Downloading geopandas-0.10.2-py2.py3-none-any.whl (1.0 MB)\n",
            "\u001b[K     |████████████████████████████████| 1.0 MB 57.4 MB/s \n",
            "\u001b[?25hRequirement already satisfied: requests<3.0.0,>=2.21.0 in /usr/local/lib/python3.7/dist-packages (from cognite-sdk) (2.23.0)\n",
            "Requirement already satisfied: requests-oauthlib==1.* in /usr/local/lib/python3.7/dist-packages (from cognite-sdk) (1.3.1)\n",
            "Requirement already satisfied: pandas in /usr/local/lib/python3.7/dist-packages (from cognite-sdk) (1.3.5)\n",
            "Collecting fiona>=1.8\n",
            "  Downloading Fiona-1.8.20-cp37-cp37m-manylinux1_x86_64.whl (15.4 MB)\n",
            "\u001b[K     |████████████████████████████████| 15.4 MB 37.9 MB/s \n",
            "\u001b[?25hCollecting pyproj>=2.2.0\n",
            "  Downloading pyproj-3.2.1-cp37-cp37m-manylinux2010_x86_64.whl (6.3 MB)\n",
            "\u001b[K     |████████████████████████████████| 6.3 MB 44.0 MB/s \n",
            "\u001b[?25hRequirement already satisfied: oauthlib>=3.0.0 in /usr/local/lib/python3.7/dist-packages (from requests-oauthlib==1.*->cognite-sdk) (3.2.0)\n",
            "Requirement already satisfied: six>=1.7 in /usr/local/lib/python3.7/dist-packages (from fiona>=1.8->geopandas==0.10.*->cognite-sdk) (1.15.0)\n",
            "Collecting cligj>=0.5\n",
            "  Downloading cligj-0.7.2-py3-none-any.whl (7.1 kB)\n",
            "Requirement already satisfied: setuptools in /usr/local/lib/python3.7/dist-packages (from fiona>=1.8->geopandas==0.10.*->cognite-sdk) (57.4.0)\n",
            "Collecting click-plugins>=1.0\n",
            "  Downloading click_plugins-1.1.1-py2.py3-none-any.whl (7.5 kB)\n",
            "Requirement already satisfied: attrs>=17 in /usr/local/lib/python3.7/dist-packages (from fiona>=1.8->geopandas==0.10.*->cognite-sdk) (21.4.0)\n",
            "Requirement already satisfied: certifi in /usr/local/lib/python3.7/dist-packages (from fiona>=1.8->geopandas==0.10.*->cognite-sdk) (2021.10.8)\n",
            "Collecting munch\n",
            "  Downloading munch-2.5.0-py2.py3-none-any.whl (10 kB)\n",
            "Requirement already satisfied: click>=4.0 in /usr/local/lib/python3.7/dist-packages (from fiona>=1.8->geopandas==0.10.*->cognite-sdk) (7.1.2)\n",
            "Requirement already satisfied: numpy>=1.17.3 in /usr/local/lib/python3.7/dist-packages (from pandas->cognite-sdk) (1.19.5)\n",
            "Requirement already satisfied: python-dateutil>=2.7.3 in /usr/local/lib/python3.7/dist-packages (from pandas->cognite-sdk) (2.8.2)\n",
            "Requirement already satisfied: pytz>=2017.3 in /usr/local/lib/python3.7/dist-packages (from pandas->cognite-sdk) (2018.9)\n",
            "Requirement already satisfied: idna<3,>=2.5 in /usr/local/lib/python3.7/dist-packages (from requests<3.0.0,>=2.21.0->cognite-sdk) (2.10)\n",
            "Requirement already satisfied: urllib3!=1.25.0,!=1.25.1,<1.26,>=1.21.1 in /usr/local/lib/python3.7/dist-packages (from requests<3.0.0,>=2.21.0->cognite-sdk) (1.24.3)\n",
            "Requirement already satisfied: chardet<4,>=3.0.2 in /usr/local/lib/python3.7/dist-packages (from requests<3.0.0,>=2.21.0->cognite-sdk) (3.0.4)\n",
            "Installing collected packages: munch, cligj, click-plugins, pyproj, fiona, geopandas, cognite-sdk\n",
            "Successfully installed click-plugins-1.1.1 cligj-0.7.2 cognite-sdk-2.39.1 fiona-1.8.20 geopandas-0.10.2 munch-2.5.0 pyproj-3.2.1\n"
          ]
        }
      ],
      "source": [
        "#!pip install cognite-sdk\n",
        "!pip install --upgrade cognite-sdk"
      ]
    },
    {
      "cell_type": "code",
      "source": [
        "%matplotlib inline\n",
        "\n",
        "import os\n",
        "from datetime import datetime, timedelta\n",
        "from datetime import datetime\n",
        "from getpass import getpass\n",
        "\n",
        "import numpy as np\n",
        "import pandas as pd\n",
        "import matplotlib.pyplot as plt\n",
        "#from sklearn.ensemble import RandomForestRegressor\n",
        "#from sklearn.linear_model import LinearRegression\n",
        "#from sklearn.metrics import mean_squared_error\n",
        "#from sklearn.metrics import r2_score\n",
        "\n",
        "from cognite.client import CogniteClient\n",
        "\n",
        "c = CogniteClient(api_key=\"NTgxY2MwMTItZjFmYS00N2U0LTgxNWEtZTcwZDNiMDU0OTFm\",\n",
        "                       project=\"publicdata\", client_name=\"Tamas Suli\")\n",
        "# NTgxY2MwMTItZjFmYS00N2U0LTgxNWEtZTcwZDNiMDU0OTFm"
      ],
      "metadata": {
        "id": "3zEcRyzu2FHc"
      },
      "execution_count": 2,
      "outputs": []
    },
    {
      "cell_type": "code",
      "source": [
        "predictors = pd.read_csv(\"predictors.csv\") \n",
        "predictors.head()"
      ],
      "metadata": {
        "colab": {
          "base_uri": "https://localhost:8080/",
          "height": 206
        },
        "id": "6lHmunDN2vPF",
        "outputId": "b15eba9f-e9d5-4662-d711-b583e671bc13"
      },
      "execution_count": 3,
      "outputs": [
        {
          "output_type": "execute_result",
          "data": {
            "text/html": [
              "\n",
              "  <div id=\"df-7633c87f-4c1a-4382-a1be-43d3118ceba5\">\n",
              "    <div class=\"colab-df-container\">\n",
              "      <div>\n",
              "<style scoped>\n",
              "    .dataframe tbody tr th:only-of-type {\n",
              "        vertical-align: middle;\n",
              "    }\n",
              "\n",
              "    .dataframe tbody tr th {\n",
              "        vertical-align: top;\n",
              "    }\n",
              "\n",
              "    .dataframe thead th {\n",
              "        text-align: right;\n",
              "    }\n",
              "</style>\n",
              "<table border=\"1\" class=\"dataframe\">\n",
              "  <thead>\n",
              "    <tr style=\"text-align: right;\">\n",
              "      <th></th>\n",
              "      <th>name</th>\n",
              "      <th>id</th>\n",
              "      <th>externalId</th>\n",
              "    </tr>\n",
              "  </thead>\n",
              "  <tbody>\n",
              "    <tr>\n",
              "      <th>0</th>\n",
              "      <td>VAL_23-PDT-92501:X.Value</td>\n",
              "      <td>6190956317771</td>\n",
              "      <td>pi:160627</td>\n",
              "    </tr>\n",
              "    <tr>\n",
              "      <th>1</th>\n",
              "      <td>VAL_23-KA-9101-M01_OC_low stage_NOC3low:VALUE</td>\n",
              "      <td>25870989735584</td>\n",
              "      <td>pi:160252</td>\n",
              "    </tr>\n",
              "    <tr>\n",
              "      <th>2</th>\n",
              "      <td>VAL_23_FIC_92543_02:Z.X.Value</td>\n",
              "      <td>54795035045033</td>\n",
              "      <td>pi:160031</td>\n",
              "    </tr>\n",
              "    <tr>\n",
              "      <th>3</th>\n",
              "      <td>VAL_23-LY-92529_SILch0_SC0_TYSP:VALUE</td>\n",
              "      <td>75873560338797</td>\n",
              "      <td>pi:160574</td>\n",
              "    </tr>\n",
              "    <tr>\n",
              "      <th>4</th>\n",
              "      <td>VAL_23-KA-9101-M01_Motor_Winding_Temp_Trip:VALUE</td>\n",
              "      <td>292999953190750</td>\n",
              "      <td>pi:160244</td>\n",
              "    </tr>\n",
              "  </tbody>\n",
              "</table>\n",
              "</div>\n",
              "      <button class=\"colab-df-convert\" onclick=\"convertToInteractive('df-7633c87f-4c1a-4382-a1be-43d3118ceba5')\"\n",
              "              title=\"Convert this dataframe to an interactive table.\"\n",
              "              style=\"display:none;\">\n",
              "        \n",
              "  <svg xmlns=\"http://www.w3.org/2000/svg\" height=\"24px\"viewBox=\"0 0 24 24\"\n",
              "       width=\"24px\">\n",
              "    <path d=\"M0 0h24v24H0V0z\" fill=\"none\"/>\n",
              "    <path d=\"M18.56 5.44l.94 2.06.94-2.06 2.06-.94-2.06-.94-.94-2.06-.94 2.06-2.06.94zm-11 1L8.5 8.5l.94-2.06 2.06-.94-2.06-.94L8.5 2.5l-.94 2.06-2.06.94zm10 10l.94 2.06.94-2.06 2.06-.94-2.06-.94-.94-2.06-.94 2.06-2.06.94z\"/><path d=\"M17.41 7.96l-1.37-1.37c-.4-.4-.92-.59-1.43-.59-.52 0-1.04.2-1.43.59L10.3 9.45l-7.72 7.72c-.78.78-.78 2.05 0 2.83L4 21.41c.39.39.9.59 1.41.59.51 0 1.02-.2 1.41-.59l7.78-7.78 2.81-2.81c.8-.78.8-2.07 0-2.86zM5.41 20L4 18.59l7.72-7.72 1.47 1.35L5.41 20z\"/>\n",
              "  </svg>\n",
              "      </button>\n",
              "      \n",
              "  <style>\n",
              "    .colab-df-container {\n",
              "      display:flex;\n",
              "      flex-wrap:wrap;\n",
              "      gap: 12px;\n",
              "    }\n",
              "\n",
              "    .colab-df-convert {\n",
              "      background-color: #E8F0FE;\n",
              "      border: none;\n",
              "      border-radius: 50%;\n",
              "      cursor: pointer;\n",
              "      display: none;\n",
              "      fill: #1967D2;\n",
              "      height: 32px;\n",
              "      padding: 0 0 0 0;\n",
              "      width: 32px;\n",
              "    }\n",
              "\n",
              "    .colab-df-convert:hover {\n",
              "      background-color: #E2EBFA;\n",
              "      box-shadow: 0px 1px 2px rgba(60, 64, 67, 0.3), 0px 1px 3px 1px rgba(60, 64, 67, 0.15);\n",
              "      fill: #174EA6;\n",
              "    }\n",
              "\n",
              "    [theme=dark] .colab-df-convert {\n",
              "      background-color: #3B4455;\n",
              "      fill: #D2E3FC;\n",
              "    }\n",
              "\n",
              "    [theme=dark] .colab-df-convert:hover {\n",
              "      background-color: #434B5C;\n",
              "      box-shadow: 0px 1px 3px 1px rgba(0, 0, 0, 0.15);\n",
              "      filter: drop-shadow(0px 1px 2px rgba(0, 0, 0, 0.3));\n",
              "      fill: #FFFFFF;\n",
              "    }\n",
              "  </style>\n",
              "\n",
              "      <script>\n",
              "        const buttonEl =\n",
              "          document.querySelector('#df-7633c87f-4c1a-4382-a1be-43d3118ceba5 button.colab-df-convert');\n",
              "        buttonEl.style.display =\n",
              "          google.colab.kernel.accessAllowed ? 'block' : 'none';\n",
              "\n",
              "        async function convertToInteractive(key) {\n",
              "          const element = document.querySelector('#df-7633c87f-4c1a-4382-a1be-43d3118ceba5');\n",
              "          const dataTable =\n",
              "            await google.colab.kernel.invokeFunction('convertToInteractive',\n",
              "                                                     [key], {});\n",
              "          if (!dataTable) return;\n",
              "\n",
              "          const docLinkHtml = 'Like what you see? Visit the ' +\n",
              "            '<a target=\"_blank\" href=https://colab.research.google.com/notebooks/data_table.ipynb>data table notebook</a>'\n",
              "            + ' to learn more about interactive tables.';\n",
              "          element.innerHTML = '';\n",
              "          dataTable['output_type'] = 'display_data';\n",
              "          await google.colab.output.renderOutput(dataTable, element);\n",
              "          const docLink = document.createElement('div');\n",
              "          docLink.innerHTML = docLinkHtml;\n",
              "          element.appendChild(docLink);\n",
              "        }\n",
              "      </script>\n",
              "    </div>\n",
              "  </div>\n",
              "  "
            ],
            "text/plain": [
              "                                               name               id externalId\n",
              "0                          VAL_23-PDT-92501:X.Value    6190956317771  pi:160627\n",
              "1     VAL_23-KA-9101-M01_OC_low stage_NOC3low:VALUE   25870989735584  pi:160252\n",
              "2                     VAL_23_FIC_92543_02:Z.X.Value   54795035045033  pi:160031\n",
              "3             VAL_23-LY-92529_SILch0_SC0_TYSP:VALUE   75873560338797  pi:160574\n",
              "4  VAL_23-KA-9101-M01_Motor_Winding_Temp_Trip:VALUE  292999953190750  pi:160244"
            ]
          },
          "metadata": {},
          "execution_count": 3
        }
      ]
    },
    {
      "cell_type": "code",
      "source": [
        "pred = predictors[\"externalId\"].to_numpy()\n",
        "pred"
      ],
      "metadata": {
        "colab": {
          "base_uri": "https://localhost:8080/"
        },
        "id": "OdrUhKc189MB",
        "outputId": "6936911c-e92d-4e25-e793-db5f539ef5c6"
      },
      "execution_count": 4,
      "outputs": [
        {
          "output_type": "execute_result",
          "data": {
            "text/plain": [
              "array(['pi:160627', 'pi:160252', 'pi:160031', 'pi:160574', 'pi:160244',\n",
              "       'pi:160259', 'pi:160566', 'pi:160030', 'pi:160179', 'pi:160775',\n",
              "       'pi:160560', 'pi:160182', 'pi:160261', 'pi:160068', 'pi:160500',\n",
              "       'pi:160545', 'pi:160260', 'pi:160171', 'pi:160696', 'pi:160613',\n",
              "       'pi:160248', 'pi:160555', 'pi:160563', 'pi:160565', 'pi:160170',\n",
              "       'pi:160556', 'pi:160180', 'pi:160568', 'pi:160247', 'pi:160521',\n",
              "       'pi:160542', 'pi:160270', 'pi:160537', 'pi:160567', 'pi:160543',\n",
              "       'pi:160546', 'pi:160492', 'pi:160882', 'pi:160229', 'pi:160493',\n",
              "       'pi:160269', 'pi:160570', 'pi:160554', 'pi:160569', 'pi:160629',\n",
              "       'pi:160238', 'pi:160614', 'pi:161061', 'pi:160220', 'pi:160520',\n",
              "       'pi:160156', 'pi:161056', 'pi:160536', 'pi:160140', 'pi:160628',\n",
              "       'pi:160995', 'pi:160697', 'pi:160552', 'pi:160257', 'pi:160272',\n",
              "       'pi:160559', 'pi:160499', 'pi:160141', 'pi:160557', 'pi:160548',\n",
              "       'pi:160779', 'pi:160776', 'pi:160777', 'pi:160782', 'pi:160612',\n",
              "       'pi:160067', 'pi:160262', 'pi:160258', 'pi:160243', 'pi:160883',\n",
              "       'pi:160547', 'pi:160519', 'pi:160496', 'pi:160549', 'pi:160884',\n",
              "       'pi:160553', 'pi:160254', 'pi:160236', 'pi:160497', 'pi:160237',\n",
              "       'pi:160701', 'pi:160550', 'pi:160253', 'pi:160242', 'pi:160558',\n",
              "       'pi:160263', 'pi:160183', 'pi:160495', 'pi:160271', 'pi:160266',\n",
              "       'pi:160774', 'pi:160993', 'pi:160241', 'pi:160268', 'pi:160208',\n",
              "       'pi:160544', 'pi:160698', 'pi:160264', 'pi:160172', 'pi:160778',\n",
              "       'pi:160631', 'pi:160573', 'pi:160561', 'pi:160781', 'pi:160224',\n",
              "       'pi:160250', 'pi:160207', 'pi:160232', 'pi:160249', 'pi:160233',\n",
              "       'pi:160205', 'pi:160246', 'pi:160240', 'pi:160230', 'pi:160564',\n",
              "       'pi:160562', 'pi:160245', 'pi:160251', 'pi:160575', 'pi:160255',\n",
              "       'pi:160267', 'pi:160206', 'pi:160700', 'pi:160104', 'pi:160522',\n",
              "       'pi:160572', 'pi:160235', 'pi:160494', 'pi:160234', 'pi:160110',\n",
              "       'pi:160994', 'pi:160630', 'pi:160231', 'pi:160155', 'pi:160239',\n",
              "       'pi:160273', 'pi:160571', 'pi:160699', 'pi:160265', 'pi:160551',\n",
              "       'pi:160256'], dtype=object)"
            ]
          },
          "metadata": {},
          "execution_count": 4
        }
      ]
    },
    {
      "cell_type": "code",
      "source": [
        "dps = c.datapoints.retrieve(id=25870989735584, start=\"2w-ago\", end=\"now\")"
      ],
      "metadata": {
        "id": "jzXg289fBuDT"
      },
      "execution_count": null,
      "outputs": []
    },
    {
      "cell_type": "code",
      "source": [
        "d = c.datapoints.retrieve(id=1076600623910780, start=\"2000d-ago\", end=\"1901d-ago\").to_pandas()"
      ],
      "metadata": {
        "id": "-U-xGf2iShMD"
      },
      "execution_count": null,
      "outputs": []
    },
    {
      "cell_type": "code",
      "source": [
        "dps = c.datapoints.retrieve(external_id=['pi:160627', 'pi:160252', 'pi:160031', 'pi:160574', 'pi:160244',\n",
        "'pi:160259', 'pi:160566', 'pi:160030', 'pi:160179', 'pi:160775',\n",
        "       'pi:160560', 'pi:160182', 'pi:160261', 'pi:160068', 'pi:160500',\n",
        "       'pi:160545', 'pi:160260', 'pi:160171', 'pi:160696', 'pi:160613',\n",
        "       'pi:160248', 'pi:160555', 'pi:160563', 'pi:160565', 'pi:160170',\n",
        "       'pi:160556', 'pi:160180', 'pi:160568', 'pi:160247', 'pi:160521',\n",
        "       'pi:160542', 'pi:160270', 'pi:160537', 'pi:160567', 'pi:160543',\n",
        "       'pi:160546', 'pi:160492', 'pi:160882', 'pi:160229', 'pi:160493',\n",
        "       'pi:160269', 'pi:160570', 'pi:160554', 'pi:160569', 'pi:160629',\n",
        "       'pi:160238', 'pi:160614', 'pi:161061', 'pi:160220', 'pi:160520',\n",
        "       'pi:160156', 'pi:161056', 'pi:160536', 'pi:160140', 'pi:160628',\n",
        "       'pi:160995', 'pi:160697', 'pi:160552', 'pi:160257', 'pi:160272',\n",
        "       'pi:160559', 'pi:160499', 'pi:160141', 'pi:160557', 'pi:160548',\n",
        "       'pi:160779', 'pi:160776', 'pi:160777', 'pi:160782', 'pi:160612',\n",
        "       'pi:160067', 'pi:160262', 'pi:160258', 'pi:160243', 'pi:160883',\n",
        "       'pi:160547', 'pi:160519', 'pi:160496', 'pi:160549', 'pi:160884',\n",
        "       'pi:160553', 'pi:160254', 'pi:160236', 'pi:160497', 'pi:160237',\n",
        "       'pi:160701', 'pi:160550', 'pi:160253', 'pi:160242', 'pi:160558',\n",
        "       'pi:160263', 'pi:160183', 'pi:160495', 'pi:160271', 'pi:160266',\n",
        "       'pi:160774', 'pi:160993', 'pi:160241', 'pi:160268', 'pi:160208',\n",
        "       'pi:160544', 'pi:160698', 'pi:160264', 'pi:160172', 'pi:160778',\n",
        "       'pi:160631', 'pi:160573', 'pi:160561', 'pi:160781', 'pi:160224',\n",
        "       'pi:160250', 'pi:160207', 'pi:160232', 'pi:160249', 'pi:160233',\n",
        "       'pi:160205', 'pi:160246', 'pi:160240', 'pi:160230', 'pi:160564',\n",
        "       'pi:160562', 'pi:160245', 'pi:160251', 'pi:160575', 'pi:160255',\n",
        "       'pi:160267', 'pi:160206', 'pi:160700', 'pi:160104', 'pi:160522',\n",
        "       'pi:160572', 'pi:160235', 'pi:160494', 'pi:160234', 'pi:160110',\n",
        "       'pi:160994', 'pi:160630', 'pi:160231', 'pi:160155', 'pi:160239',\n",
        "       'pi:160273', 'pi:160571', 'pi:160699', 'pi:160265', 'pi:160551',\n",
        "       'pi:160256'],\n",
        "                            start=\"245d-ago\",\n",
        "                            end=\"40d-ago\",\n",
        "                            aggregates=[\"average\"],\n",
        "                            granularity=\"1m\",\n",
        "                            ignore_unknown_ids=True)\n",
        "# 1076600623910780, 1106662769260200, 1345316495294040, 1450546190698360"
      ],
      "metadata": {
        "id": "cHb9E40u2Im1"
      },
      "execution_count": 13,
      "outputs": []
    },
    {
      "cell_type": "code",
      "source": [
        "dps.to_pandas().to_csv('predictors_time_series_1m.csv')"
      ],
      "metadata": {
        "id": "MZVWxNzIB2t5"
      },
      "execution_count": null,
      "outputs": []
    },
    {
      "cell_type": "code",
      "source": [
        ""
      ],
      "metadata": {
        "id": "WbZMhoVNcQfF"
      },
      "execution_count": null,
      "outputs": []
    },
    {
      "cell_type": "code",
      "source": [
        ""
      ],
      "metadata": {
        "id": "mYokQsmzbbUd"
      },
      "execution_count": null,
      "outputs": []
    }
  ]
}